{
 "cells": [
  {
   "cell_type": "markdown",
   "id": "88546d96",
   "metadata": {},
   "source": [
    "### Assignment_7"
   ]
  },
  {
   "cell_type": "markdown",
   "id": "454ef3de",
   "metadata": {},
   "source": [
    "#### Q.1. Create two int type variables, apply addition, subtraction, division and multiplicationsand store the results in variables. Then print the data in the following format by calling the variables:\n",
    "\n",
    "#### First variable is __ & second variable is __.\n",
    "#### Addition: __ + __ = __\n",
    "#### Subtraction: __ - __ = __\n",
    "#### Multiplication: __ * __ = __\n",
    "#### Division: __ / __ = __"
   ]
  },
  {
   "cell_type": "code",
   "execution_count": 2,
   "id": "e84370eb",
   "metadata": {},
   "outputs": [
    {
     "name": "stdout",
     "output_type": "stream",
     "text": [
      "First variable is 10 & second variable is 5.\n",
      "Addition: 10 + 5 = 15\n",
      "Subtraction: 10 - 5 = 5\n",
      "Multiplication: 10 * 5 = 50\n",
      "Division: 10 / 5 = 2.0\n"
     ]
    }
   ],
   "source": [
    "# Create two int type variables\n",
    "first_variable = 10\n",
    "second_variable = 5\n",
    "\n",
    "# Perform arithmetic operations and store the results\n",
    "addition = first_variable + second_variable\n",
    "subtraction = first_variable - second_variable\n",
    "multiplication = first_variable * second_variable\n",
    "division = first_variable / second_variable\n",
    "\n",
    "# Print the results in the requested format\n",
    "print(f\"First variable is {first_variable} & second variable is {second_variable}.\")\n",
    "print(f\"Addition: {first_variable} + {second_variable} = {addition}\")\n",
    "print(f\"Subtraction: {first_variable} - {second_variable} = {subtraction}\")\n",
    "print(f\"Multiplication: {first_variable} * {second_variable} = {multiplication}\")\n",
    "print(f\"Division: {first_variable} / {second_variable} = {division}\")\n"
   ]
  },
  {
   "cell_type": "markdown",
   "id": "a9cf2154",
   "metadata": {},
   "source": [
    "#### Q.2. What is the difference between the following operators:\n",
    "#### (i) ‘/’ & ‘//’\n",
    "#### (ii) ‘**’ & ‘^’"
   ]
  },
  {
   "cell_type": "markdown",
   "id": "fe9856bc",
   "metadata": {},
   "source": [
    "(i) The '/' and '//' operators are used for division in Python, but they have different behaviors.\n",
    "\n",
    "1. The '/' operator performs normal division and returns a float result. It performs floating-point division, even if the operands are integers."
   ]
  },
  {
   "cell_type": "code",
   "execution_count": 3,
   "id": "aaea8fe4",
   "metadata": {},
   "outputs": [
    {
     "name": "stdout",
     "output_type": "stream",
     "text": [
      "3.3333333333333335\n"
     ]
    }
   ],
   "source": [
    "result = 10 / 3\n",
    "print(result)  # Output: 3.3333333333333335\n"
   ]
  },
  {
   "cell_type": "markdown",
   "id": "bc81f183",
   "metadata": {},
   "source": [
    "2. The '//' operator is known as the floor division or integer division operator. It performs division and returns the floor (rounded down) of the quotient as an integer. It discards the fractional part of the result."
   ]
  },
  {
   "cell_type": "code",
   "execution_count": 4,
   "id": "6d30636b",
   "metadata": {},
   "outputs": [
    {
     "name": "stdout",
     "output_type": "stream",
     "text": [
      "3\n"
     ]
    }
   ],
   "source": [
    "result = 10 // 3\n",
    "print(result)  # Output: 3"
   ]
  },
  {
   "cell_type": "markdown",
   "id": "a8041c19",
   "metadata": {},
   "source": [
    "(ii) The '**' and '^' operators are used for exponentiation, but they have different meanings.\n",
    "\n",
    "1. The '**' operator is used for exponentiation in Python. It raises the left operand to the power of the right operand.\n"
   ]
  },
  {
   "cell_type": "code",
   "execution_count": 5,
   "id": "912a4f2c",
   "metadata": {},
   "outputs": [
    {
     "name": "stdout",
     "output_type": "stream",
     "text": [
      "8\n"
     ]
    }
   ],
   "source": [
    "result = 2 ** 3\n",
    "print(result)  # Output: 8"
   ]
  },
  {
   "cell_type": "markdown",
   "id": "99087b28",
   "metadata": {},
   "source": [
    "2. The '^' operator, on the other hand, is not used for exponentiation in Python. Instead, it is the bitwise XOR operator used for performing bitwise exclusive OR operations between two integers."
   ]
  },
  {
   "cell_type": "code",
   "execution_count": 6,
   "id": "f1b8b150",
   "metadata": {},
   "outputs": [
    {
     "name": "stdout",
     "output_type": "stream",
     "text": [
      "6\n"
     ]
    }
   ],
   "source": [
    "result = 5 ^ 3\n",
    "print(result)  # Output: 6"
   ]
  },
  {
   "cell_type": "markdown",
   "id": "9745dd5f",
   "metadata": {},
   "source": [
    "#### Q.3. List the logical operators."
   ]
  },
  {
   "cell_type": "markdown",
   "id": "a729fbea",
   "metadata": {},
   "source": [
    "The logical operators in Python are:\n",
    "\n",
    "1. `and`: The `and` operator returns `True` if both operands are `True`, and `False` otherwise.\n",
    "\n",
    "2. `or`: The `or` operator returns `True` if at least one of the operands is `True`, and `False` otherwise.\n",
    "\n",
    "3. `not`: The `not` operator returns the negation of the operand. It returns `True` if the operand is `False`, and `False` if the operand is `True`.\n",
    "\n",
    "These logical operators are commonly used to combine conditions and perform logical operations in control structures like `if` statements and loops."
   ]
  },
  {
   "cell_type": "markdown",
   "id": "886672ca",
   "metadata": {},
   "source": [
    "#### Q.4. Explain right shift operator and left shift operator with examples."
   ]
  },
  {
   "cell_type": "markdown",
   "id": "1b478263",
   "metadata": {},
   "source": [
    "The right shift (`>>`) and left shift (`<<`) operators are bitwise operators in Python.\n",
    "\n",
    "- The right shift operator (`>>`) shifts the bits of a number to the right by a specified number of positions.\n",
    "Example: `5 >> 1` shifts the bits of 5 (101 in binary) one position to the right, resulting in 2 (10 in binary).\n",
    "\n",
    "- The left shift operator (`<<`) shifts the bits of a number to the left by a specified number of positions.\n",
    "Example: `5 << 1` shifts the bits of 5 (101 in binary) one position to the left, resulting in 10 (1010 in binary).\n",
    "\n",
    "These operators perform bitwise operations on integers, shifting the bits to the right or left and filling in with zeros."
   ]
  },
  {
   "cell_type": "markdown",
   "id": "48af50ee",
   "metadata": {},
   "source": [
    "#### Q.5. Create a list containing int type data of length 15. Then write a code to check if 10 is present in the list or not."
   ]
  },
  {
   "cell_type": "markdown",
   "id": "ce0f93e3",
   "metadata": {},
   "source": [
    "Created a list of integers with a length of 15 and checks if the number 10 is present in the list:"
   ]
  },
  {
   "cell_type": "code",
   "execution_count": 9,
   "id": "9a525f10",
   "metadata": {},
   "outputs": [
    {
     "name": "stdout",
     "output_type": "stream",
     "text": [
      "10 is present in the list.\n"
     ]
    }
   ],
   "source": [
    "# Create a list of integers\n",
    "my_list = [2, 5, 8, 10, 15, 20, 25, 30, 35, 40, 45, 50, 55, 60, 65]\n",
    "\n",
    "# Check if 10 is present in the list\n",
    "if 10 in my_list:\n",
    "    print(\"10 is present in the list.\")\n",
    "else:\n",
    "    print(\"10 is not present in the list.\")\n"
   ]
  },
  {
   "cell_type": "code",
   "execution_count": null,
   "id": "18f5b82c",
   "metadata": {},
   "outputs": [],
   "source": []
  }
 ],
 "metadata": {
  "kernelspec": {
   "display_name": "Python 3 (ipykernel)",
   "language": "python",
   "name": "python3"
  },
  "language_info": {
   "codemirror_mode": {
    "name": "ipython",
    "version": 3
   },
   "file_extension": ".py",
   "mimetype": "text/x-python",
   "name": "python",
   "nbconvert_exporter": "python",
   "pygments_lexer": "ipython3",
   "version": "3.10.9"
  }
 },
 "nbformat": 4,
 "nbformat_minor": 5
}
