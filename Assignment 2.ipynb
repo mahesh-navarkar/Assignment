{
  "metadata": {
    "language_info": {
      "codemirror_mode": {
        "name": "python",
        "version": 3
      },
      "file_extension": ".py",
      "mimetype": "text/x-python",
      "name": "python",
      "nbconvert_exporter": "python",
      "pygments_lexer": "ipython3",
      "version": "3.8"
    },
    "kernelspec": {
      "name": "python",
      "display_name": "Python (Pyodide)",
      "language": "python"
    }
  },
  "nbformat_minor": 4,
  "nbformat": 4,
  "cells": [
    {
      "cell_type": "markdown",
      "source": "Q1.What are the two values of the Boolean data type? How do you write them?",
      "metadata": {}
    },
    {
      "cell_type": "markdown",
      "source": "The Boolean data type in Python has two possible values: True and False. These values represent the truth conditions in logical operations. The Boolean literals are written exactly as shown, with an uppercase \"T\" for True and an uppercase \"F\" for False. It's important to note that in Python, the capitalization matters, as true and false will not be recognized as Boolean literals.",
      "metadata": {}
    },
    {
      "cell_type": "code",
      "source": "my_variable = True\nflag = False\nprint(my_variable)\nprint(flag)",
      "metadata": {
        "trusted": true
      },
      "execution_count": 3,
      "outputs": [
        {
          "name": "stdout",
          "text": "True\nFalse\n",
          "output_type": "stream"
        }
      ]
    },
    {
      "cell_type": "markdown",
      "source": "Q2. What are the three different types of Boolean operators?",
      "metadata": {}
    },
    {
      "cell_type": "markdown",
      "source": "Ans :- and, or, and not these are the three types of Boolean operators",
      "metadata": {}
    },
    {
      "cell_type": "raw",
      "source": " Logical AND (and):\nOperand 1   Operand 2   Result\n True         True      True\n True         False     False\n False        True      False\n False        False     False\n \n \n Logical OR (or):\nOperand 1   Operand 2   Result\n True        True       True\n True        False      True\n False       True       True\n False       False      False\n\n\n Logical NOT (not):\nOperand   Result\n True     False\n False    True",
      "metadata": {}
    },
    {
      "cell_type": "markdown",
      "source": "Q4. What are the values of the following expressions?",
      "metadata": {}
    },
    {
      "cell_type": "code",
      "source": "print((5>4) and (3==5))\nprint(not(5>4))\nprint((5>4) or (3==5))\nprint(not(5>4) or (3==5))\nprint((True and True) and (True==False))\nprint((not(False))or(not(True)))",
      "metadata": {
        "trusted": true
      },
      "execution_count": 4,
      "outputs": [
        {
          "name": "stdout",
          "text": "False\nFalse\nTrue\nFalse\nFalse\nTrue\n",
          "output_type": "stream"
        }
      ]
    },
    {
      "cell_type": "markdown",
      "source": "Q5. What are the six comparison operators?",
      "metadata": {}
    },
    {
      "cell_type": "raw",
      "source": "1) Equal to (==): x == y                  # Returns True if x is equal to y\n2) Not equal to (!=): x != y              # Returns True if x is not equal to y\n3) Greater than (>): x > y                # Returns True if x is greater than y\n4) Less than (<): x < y                   # Returns True if x is less than y\n5) Greater than or equal to (>=): x >= y  # Returns True if x is greater than or equal to y\n6) Less than or equal to (<=): x <= y     # Returns True if x is less than or equal to y",
      "metadata": {}
    },
    {
      "cell_type": "markdown",
      "source": "Q6. How do you tell the difference between the equal to and assignment operators?Describe a condition and when you would use one.",
      "metadata": {}
    },
    {
      "cell_type": "markdown",
      "source": "Equal to (==) Operator:\nThe equal to operator (==) compares the equality of two values. It returns True if the values are equal and False otherwise. This operator is used in conditions to check if two values are equal.",
      "metadata": {}
    },
    {
      "cell_type": "code",
      "source": "x = 5\ny = 10\n\nif x == y:\n    print(\"x and y are equal\")\nelse:\n    print(\"x and y are not equal\")",
      "metadata": {
        "trusted": true
      },
      "execution_count": 6,
      "outputs": [
        {
          "name": "stdout",
          "text": "x and y are not equal\n",
          "output_type": "stream"
        }
      ]
    },
    {
      "cell_type": "markdown",
      "source": "Assignment (=) Operator:\nThe assignment operator (=) is used to assign a value to a variable. It assigns the value on the right side of the operator to the variable on the left side.",
      "metadata": {}
    },
    {
      "cell_type": "code",
      "source": "x = 5\nprint('x =',x)",
      "metadata": {
        "trusted": true
      },
      "execution_count": 9,
      "outputs": [
        {
          "name": "stdout",
          "text": "x = 5\n",
          "output_type": "stream"
        }
      ]
    },
    {
      "cell_type": "markdown",
      "source": "Q7. Identify the three blocks in this code:",
      "metadata": {}
    },
    {
      "cell_type": "code",
      "source": "spam = 0\nif spam == 10:\n    print('eggs')      #Block 1\nif spam > 5:\n    print('bacon')     #Block 2\nelse:\n    print('ham')       #Block 3\n    print('spam')\n    print('spam')",
      "metadata": {
        "trusted": true
      },
      "execution_count": 11,
      "outputs": [
        {
          "name": "stdout",
          "text": "ham\nspam\nspam\n",
          "output_type": "stream"
        }
      ]
    },
    {
      "cell_type": "markdown",
      "source": "Q8. Write code that prints Hello if 1 is stored in spam, prints Howdy if 2 is stored in spam, and prints Greetings! if anything else is stored in spam.",
      "metadata": {}
    },
    {
      "cell_type": "code",
      "source": "spam = 2 #input(\"Enter a value for spam: \")\nif spam == 1:\n    print(\"Hello\")\nelif spam == 2:\n    print(\"Howdy\")\nelse:\n    print(\"Greetings!\")",
      "metadata": {
        "trusted": true
      },
      "execution_count": 29,
      "outputs": [
        {
          "name": "stdout",
          "text": "Howdy\n",
          "output_type": "stream"
        }
      ]
    },
    {
      "cell_type": "markdown",
      "source": "Q9. If your programme is stuck in an endless loop, what keys you’ll press?",
      "metadata": {}
    },
    {
      "cell_type": "markdown",
      "source": "Ans:-  Ctrl + C",
      "metadata": {}
    },
    {
      "cell_type": "markdown",
      "source": "Q10. How can you tell the difference between break and continue?",
      "metadata": {}
    },
    {
      "cell_type": "code",
      "source": "# use of break\nfor i in range(6):\n    if(i==4):\n        break\n    print(i)\n    \nprint('Breaked')\n#use of  continue\nfor i in range(10):\n    if(i==4):\n        continue\n    print(i)",
      "metadata": {
        "trusted": true
      },
      "execution_count": 32,
      "outputs": [
        {
          "name": "stdout",
          "text": "0\n1\n2\n3\nBreaked\n0\n1\n2\n3\n5\n6\n7\n8\n9\n",
          "output_type": "stream"
        }
      ]
    },
    {
      "cell_type": "markdown",
      "source": "Ans:- Break is used to terminate the entire loop, while continue is used to skip the remaining code within the current iteration and move to the next iteration. Both break and continue are powerful tools for controlling the flow of loops based on certain conditions.",
      "metadata": {}
    },
    {
      "cell_type": "markdown",
      "source": "Q11. In a for loop, what is the difference between range(10), range(0, 10), and range(0, 10, 1)?",
      "metadata": {}
    },
    {
      "cell_type": "markdown",
      "source": "range(10):\n\nIn this case, the range() function is called with a single argument, which represents the stop value. It generates a sequence of numbers starting from 0 and ending at 10 - 1, incrementing by the default step size of 1. The start value is implicitly assumed to be 0. Therefore, range(10) will generate the sequence: 0, 1, 2, 3, 4, 5, 6, 7, 8, 9.\n\nrange(0, 10):\n\nIn this case, the range() function is called with two arguments: the start value and the stop value. It generates a sequence of numbers starting from the provided start value (0) and ending at the stop value (10 - 1), incrementing by the default step size of 1. Therefore, range(0, 10) will generate the same sequence as range(10): 0, 1, 2, 3, 4, 5, 6, 7, 8, 9.\n\nrange(0, 10, 1):\n\nIn this case, the range() function is called with three arguments: the start value, the stop value, and the step size. It generates a sequence of numbers starting from the provided start value (0), ending at the stop value (10 - 1), and incrementing by the provided step size (1). Since the step size is 1, it will generate the same sequence as the previous cases: 0, 1, 2, 3, 4, 5, 6, 7, 8, 9.",
      "metadata": {}
    },
    {
      "cell_type": "markdown",
      "source": "Q12. Write a short program that prints the numbers 1 to 10 using a for loop. Then write an equivalent program that prints the numbers 1 to 10 using a while loop.",
      "metadata": {}
    },
    {
      "cell_type": "code",
      "source": "# Using a for loop\nprint(\"For Loop\")\nfor i in range(1, 11):\n    print(i)\n\n# Using a while loop\nprint(\"While loop\")\ni = 1\nwhile i <= 10:\n    print(i)\n    i += 1",
      "metadata": {
        "trusted": true
      },
      "execution_count": 38,
      "outputs": [
        {
          "name": "stdout",
          "text": "For Loop\n1\n2\n3\n4\n5\n6\n7\n8\n9\n10\nWhile loop\n1\n2\n3\n4\n5\n6\n7\n8\n9\n10\n",
          "output_type": "stream"
        }
      ]
    },
    {
      "cell_type": "markdown",
      "source": "Q13. If you had a function named bacon() inside a module named spam, how would you call it after importing spam?",
      "metadata": {}
    },
    {
      "cell_type": "markdown",
      "source": "import spam\n\nspam.bacon()",
      "metadata": {}
    }
  ]
}