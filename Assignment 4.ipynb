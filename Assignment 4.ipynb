{
 "cells": [
  {
   "cell_type": "markdown",
   "id": "bf47d421-6bbb-4070-a544-903ac06bedfd",
   "metadata": {},
   "source": [
    "Q1. What exactly is [ ]?"
   ]
  },
  {
   "cell_type": "markdown",
   "id": "c314b6d8-2a15-4558-a88e-a855797040dd",
   "metadata": {},
   "source": [
    "[] is an empty list. A list is a built-in data type in Python used to store multiple items in a single variable. It is an ordered collection of elements enclosed within square brackets [].\n",
    "\n",
    "An empty list, represented as [], has no elements in it. It is a list with zero items, meaning it doesn't contain any values. Here's an example:"
   ]
  },
  {
   "cell_type": "code",
   "execution_count": 1,
   "id": "89774f73-2c64-42a8-8ba8-170d7079f012",
   "metadata": {},
   "outputs": [
    {
     "name": "stdout",
     "output_type": "stream",
     "text": [
      "[]\n",
      "0\n"
     ]
    }
   ],
   "source": [
    "list1 = []\n",
    "print(list1)\n",
    "print(len(list1))"
   ]
  },
  {
   "cell_type": "markdown",
   "id": "899b6966-1472-49eb-abff-da93fffbff90",
   "metadata": {},
   "source": [
    "Q2. In a list of values stored in a variable called spam, how would you assign the value 'hello' as the third value? (Assume [2, 4, 6, 8, 10] are in spam.)"
   ]
  },
  {
   "cell_type": "code",
   "execution_count": 2,
   "id": "35212802-32be-4a3f-af0e-377e38153b3e",
   "metadata": {},
   "outputs": [
    {
     "name": "stdout",
     "output_type": "stream",
     "text": [
      "[2, 4, 6, 'hello', 8, 10]\n"
     ]
    }
   ],
   "source": [
    "spam = [2,4,6,8,10]\n",
    "spam.insert(3, \"hello\")\n",
    "print(spam)"
   ]
  },
  {
   "cell_type": "markdown",
   "id": "824a4ab8-eae2-43b8-8793-dd5fa10615b1",
   "metadata": {},
   "source": [
    "Let's pretend the spam includes the list ['a','b','c','d'] for the next three queries."
   ]
  },
  {
   "cell_type": "markdown",
   "id": "f8c81222-a1bd-4747-813d-f5f000f853df",
   "metadata": {},
   "source": [
    "Q3. What is the value of spam[int(int('3' * 2) / 11)]?"
   ]
  },
  {
   "cell_type": "code",
   "execution_count": 4,
   "id": "c9d1a9fe-17e8-4c87-93e2-54258634bbd6",
   "metadata": {},
   "outputs": [
    {
     "data": {
      "text/plain": [
       "'d'"
      ]
     },
     "execution_count": 4,
     "metadata": {},
     "output_type": "execute_result"
    }
   ],
   "source": [
    "spam = ['a','b','c','d']\n",
    "spam[int(int('3' * 2) / 11)]"
   ]
  },
  {
   "cell_type": "markdown",
   "id": "ffd9abe4-5a13-45b7-ae78-808d30ef0855",
   "metadata": {},
   "source": [
    "Q4. What is the value of spam[-1]?"
   ]
  },
  {
   "cell_type": "code",
   "execution_count": 6,
   "id": "1f7ba85c-a971-42f9-9762-ee7801bf5a0e",
   "metadata": {},
   "outputs": [
    {
     "data": {
      "text/plain": [
       "'d'"
      ]
     },
     "execution_count": 6,
     "metadata": {},
     "output_type": "execute_result"
    }
   ],
   "source": [
    "spam[-1]"
   ]
  },
  {
   "cell_type": "markdown",
   "id": "0e790a08-38f7-44e6-8f52-a91dbe5ef9d6",
   "metadata": {},
   "source": [
    "Q5. What is the value of spam[:2]"
   ]
  },
  {
   "cell_type": "code",
   "execution_count": 7,
   "id": "f6831cd0-f784-4789-9873-577a5b521672",
   "metadata": {},
   "outputs": [
    {
     "data": {
      "text/plain": [
       "['a', 'b']"
      ]
     },
     "execution_count": 7,
     "metadata": {},
     "output_type": "execute_result"
    }
   ],
   "source": [
    "spam[:2]"
   ]
  },
  {
   "cell_type": "markdown",
   "id": "aca7674a-ad1a-472c-aebf-055859d2b86c",
   "metadata": {},
   "source": [
    "Let's pretend bacon has the list [3.14,'cat',11, 'cat', True] for the next three questions."
   ]
  },
  {
   "cell_type": "markdown",
   "id": "407e80ce-de7e-427c-bb3d-f6fd9e075a81",
   "metadata": {},
   "source": [
    "Q6. What is the value of bacon.index('cat')?"
   ]
  },
  {
   "cell_type": "code",
   "execution_count": 8,
   "id": "c7e383ff-5d95-441d-81ed-6dd232fe052c",
   "metadata": {},
   "outputs": [
    {
     "data": {
      "text/plain": [
       "1"
      ]
     },
     "execution_count": 8,
     "metadata": {},
     "output_type": "execute_result"
    }
   ],
   "source": [
    "bacon = [3.14,'cat',11,'cat',True]\n",
    "bacon.index('cat')"
   ]
  },
  {
   "cell_type": "markdown",
   "id": "d7d4de3e-ca49-47b0-bd73-e716f3c587d5",
   "metadata": {},
   "source": [
    "Q7. How does bacon.append(99) change the look of the list value in bacon?"
   ]
  },
  {
   "cell_type": "code",
   "execution_count": 9,
   "id": "2219cbf3-2a56-4e43-9036-9b27daee0071",
   "metadata": {},
   "outputs": [
    {
     "name": "stdout",
     "output_type": "stream",
     "text": [
      "[3.14, 'cat', 11, 'cat', True, 99]\n"
     ]
    }
   ],
   "source": [
    "bacon =  [3.14,'cat',11,'cat',True]\n",
    "bacon.append(99)\n",
    "print(bacon)"
   ]
  },
  {
   "cell_type": "markdown",
   "id": "44e2ddcb-b94d-4ce2-aadb-48cc2f602a3e",
   "metadata": {},
   "source": [
    "Q8. How does bacon.remove('cat') change the look of the list in bacon?"
   ]
  },
  {
   "cell_type": "code",
   "execution_count": 11,
   "id": "a2c23119-3da9-4071-8205-5fc0b1aa0b44",
   "metadata": {},
   "outputs": [
    {
     "name": "stdout",
     "output_type": "stream",
     "text": [
      "[3.14, 11, 'cat', True]\n"
     ]
    }
   ],
   "source": [
    "bacon =  [3.14,'cat',11,'cat',True]\n",
    "bacon.remove('cat')\n",
    "print(bacon)"
   ]
  },
  {
   "cell_type": "markdown",
   "id": "fce6cfc8-393e-46c8-88c9-aebb9b5b5efe",
   "metadata": {},
   "source": [
    "Q9. What are the list concatenation and list replication operators?"
   ]
  },
  {
   "cell_type": "markdown",
   "id": "27c6471a-ff89-4b3c-844b-63938719b2bb",
   "metadata": {},
   "source": [
    "List Concatenation (+): The + operator is used to concatenate two or more lists, creating a new list that contains all the elements from the concatenated lists. It does not modify the original lists. For example:"
   ]
  },
  {
   "cell_type": "code",
   "execution_count": 13,
   "id": "eeb53023-42d7-4f60-9506-a0fb72b90c55",
   "metadata": {},
   "outputs": [
    {
     "name": "stdout",
     "output_type": "stream",
     "text": [
      "[1, 2, 3, 4]\n"
     ]
    }
   ],
   "source": [
    "list1 = [1, 2]\n",
    "list2 = [3, 4]\n",
    "result = list1 + list2\n",
    "print(result)  # Output: [1, 2, 3, 4]"
   ]
  },
  {
   "cell_type": "markdown",
   "id": "9c13773b-c026-4e81-8992-a89a3bae2b4d",
   "metadata": {},
   "source": [
    "List Replication (*): The * operator is used to replicate a list a certain number of times, creating a new list with repeated elements. It does not modify the original list. For example:"
   ]
  },
  {
   "cell_type": "code",
   "execution_count": 14,
   "id": "0f289b13-8e76-4f84-8c5d-076ad5c32e52",
   "metadata": {},
   "outputs": [
    {
     "name": "stdout",
     "output_type": "stream",
     "text": [
      "[1, 2, 1, 2, 1, 2]\n"
     ]
    }
   ],
   "source": [
    "l1 = [1, 2]\n",
    "list1 = l1 * 3\n",
    "print(list1)  # Output: [1, 2, 1, 2, 1, 2]"
   ]
  },
  {
   "cell_type": "markdown",
   "id": "99bddebf-a3ff-4cfd-9783-a6591170ad11",
   "metadata": {},
   "source": [
    "Q10. What is difference between the list methods append() and insert()?"
   ]
  },
  {
   "cell_type": "markdown",
   "id": "847ddd81-0386-4a56-9cd8-b196e8fefa41",
   "metadata": {},
   "source": [
    "append() method: The append() method is used to add an element to the end of a list. It modifies the original list by adding the element as the last item. The syntax is as follows:"
   ]
  },
  {
   "cell_type": "code",
   "execution_count": 16,
   "id": "2f1f2d20-618e-44f3-ac36-df83fd682b7b",
   "metadata": {},
   "outputs": [
    {
     "name": "stdout",
     "output_type": "stream",
     "text": [
      "[1, 2, 3]\n"
     ]
    }
   ],
   "source": [
    "my_list = [1, 2]\n",
    "my_list.append(3)\n",
    "print(my_list)  # Output: [1, 2, 3]"
   ]
  },
  {
   "cell_type": "markdown",
   "id": "70a63666-3060-4e26-bab4-00dcae072b34",
   "metadata": {},
   "source": [
    "insert() method: The insert() method is used to add an element at a specific position in a list. It modifies the original list by shifting the existing elements to make room for the new element. The syntax is as follows:"
   ]
  },
  {
   "cell_type": "code",
   "execution_count": 18,
   "id": "6255af3c-2148-450c-976a-e245609879a3",
   "metadata": {},
   "outputs": [
    {
     "name": "stdout",
     "output_type": "stream",
     "text": [
      "[1, 3, 2]\n"
     ]
    }
   ],
   "source": [
    "my_list = [1, 2]\n",
    "my_list.insert(1, 3)\n",
    "print(my_list)  # Output: [1, 3, 2]"
   ]
  },
  {
   "cell_type": "markdown",
   "id": "db2b736a-6e5b-4118-b4dc-f01330482d9e",
   "metadata": {},
   "source": [
    "Q11. What are the two methods for removing items from a list?"
   ]
  },
  {
   "cell_type": "markdown",
   "id": "33b7701c-e071-4d31-9971-c3aecba2c5b7",
   "metadata": {},
   "source": [
    "pop() method: The pop() method is used to remove an item from a list based on its index. It modifies the original list and returns the removed item. If no index is specified, it removes and returns the last item in the list. The syntax is as follows:"
   ]
  },
  {
   "cell_type": "code",
   "execution_count": 24,
   "id": "e4debb6d-3ca0-4de3-9950-f365344b7dc9",
   "metadata": {},
   "outputs": [
    {
     "name": "stdout",
     "output_type": "stream",
     "text": [
      "[1, 2, 4, 5]\n"
     ]
    }
   ],
   "source": [
    "my_list = [1, 2, 3, 4, 5]\n",
    "my_list.pop(2)\n",
    "print(my_list)  # Output: [1, 2, 4, 5]"
   ]
  },
  {
   "cell_type": "markdown",
   "id": "a30d2720-b78d-4bdc-8382-8a49c6577c8b",
   "metadata": {},
   "source": [
    "remove() method: The remove() method is used to remove the first occurrence of a specified value from a list. It modifies the original list and does not return any value. The syntax is as follows:"
   ]
  },
  {
   "cell_type": "code",
   "execution_count": 23,
   "id": "6aca9b22-beb2-4bdd-9943-2e1fa1b0a091",
   "metadata": {},
   "outputs": [
    {
     "name": "stdout",
     "output_type": "stream",
     "text": [
      "[1, 2, 4, 5]\n"
     ]
    }
   ],
   "source": [
    "my_list = [1, 2, 3, 4, 5]\n",
    "my_list.remove(3)\n",
    "print(my_list)  # Output: [1, 2, 4, 5]"
   ]
  },
  {
   "cell_type": "markdown",
   "id": "3734ebae-a576-48cb-983f-a17e8771b66d",
   "metadata": {},
   "source": [
    "Q12. Describe how list values and string values are identical."
   ]
  },
  {
   "cell_type": "markdown",
   "id": "8fcc99be-9ac1-4821-bd8b-61274827634a",
   "metadata": {},
   "source": [
    "Similarities:\n",
    "\n",
    "Both are sequences: Both lists and strings are sequential collections of values. They preserve the order in which their elements appear, allowing for indexing and slicing operations.\n",
    "\n",
    "Accessing elements: Both lists and strings allow individual elements to be accessed using indexing. The index starts from 0 for the first element.\n",
    "\n",
    "Iteration: Both lists and strings can be iterated over using loops or comprehensions to access each element in the sequence.\n",
    "\n",
    "Differences:\n",
    "\n",
    "Mutability: Lists are mutable, meaning their elements can be modified or replaced. In contrast, strings are immutable, and their individual characters cannot be changed once the string is created. However, a new string can be created by combining or modifying existing strings.\n",
    "\n",
    "Type of elements: Lists can store elements of different data types, such as integers, strings, or even other lists. On the other hand, strings can only store characters and represent textual data.\n",
    "\n",
    "Operations: Lists and strings have different operations associated with them. For example, lists have methods like append(), pop(), and extend() that allow for manipulation of their elements. Strings have methods like split(), join(), and replace() that provide string-specific functionality.\n",
    "\n",
    "Representation: Lists are enclosed in square brackets [ ], while strings are enclosed in quotes, either single (' ') or double (\" \"), to indicate their values."
   ]
  },
  {
   "cell_type": "markdown",
   "id": "f19669ca-0c3d-4cd3-be7b-9696ad0e7b80",
   "metadata": {},
   "source": [
    "13. What's the difference between tuples and lists?"
   ]
  },
  {
   "cell_type": "markdown",
   "id": "970264f2-2645-45c8-938d-ee2c03a6a9ec",
   "metadata": {},
   "source": [
    "Tuples and Lists differ in mutability, syntax, purpose, performance characteristics, available operations, and memory usage. Tuples are immutable and suitable for representing fixed collections of related items, while lists are mutable and offer greater flexibility for modifying and manipulating sequences of items."
   ]
  },
  {
   "cell_type": "markdown",
   "id": "9bebbce3-11c6-4402-be2c-e23b672195ec",
   "metadata": {},
   "source": [
    "Q14. How do you type a tuple value that only contains the integer 42?"
   ]
  },
  {
   "cell_type": "code",
   "execution_count": 28,
   "id": "59a6bfbb-07f4-4346-94ff-301d3bf5fd3d",
   "metadata": {},
   "outputs": [
    {
     "name": "stdout",
     "output_type": "stream",
     "text": [
      "42\n"
     ]
    }
   ],
   "source": [
    "my_tuple = (42)\n",
    "print(my_tuple)"
   ]
  },
  {
   "cell_type": "markdown",
   "id": "3567b52b-96c8-45b1-8f08-294d84475c80",
   "metadata": {},
   "source": [
    "Q15. How do you get a list value's tuple form? How do you get a tuple value's list form?"
   ]
  },
  {
   "cell_type": "code",
   "execution_count": 29,
   "id": "cb40ea6f-73b7-499e-8b8e-837679e047cb",
   "metadata": {},
   "outputs": [
    {
     "name": "stdout",
     "output_type": "stream",
     "text": [
      "(1, 2, 3, 4, 5)\n"
     ]
    }
   ],
   "source": [
    "#Convert a List to a Tuple:\n",
    "my_list = [1, 2, 3, 4, 5]\n",
    "my_tuple = tuple(my_list)\n",
    "print(my_tuple)  # Output: (1, 2, 3, 4, 5)"
   ]
  },
  {
   "cell_type": "code",
   "execution_count": 30,
   "id": "6d020b12-6ac1-4852-9fb4-cfff2cb798a2",
   "metadata": {},
   "outputs": [
    {
     "name": "stdout",
     "output_type": "stream",
     "text": [
      "[1, 2, 3, 4, 5]\n"
     ]
    }
   ],
   "source": [
    "#Convert a Tuple to a List:\n",
    "my_tuple = (1, 2, 3, 4, 5)\n",
    "my_list = list(my_tuple)\n",
    "print(my_list)  # Output: [1, 2, 3, 4, 5]"
   ]
  },
  {
   "cell_type": "markdown",
   "id": "bc50c32e-4612-4a11-9227-393aac5b1c7a",
   "metadata": {},
   "source": [
    "Q16. Variables that \"contain\" list values are not necessarily lists themselves. Instead, what do they contain?"
   ]
  },
  {
   "cell_type": "markdown",
   "id": "b3ff40d8-6b26-45c5-877d-bbd9b1d3b854",
   "metadata": {},
   "source": [
    "Variables that \"contain\" list values in Python do not store the actual list itself. Instead, they contain references or pointers to the list object in memory. In other words, variables contain memory addresses where the list objects are stored. This allows variables to access and manipulate the list through the memory address reference."
   ]
  },
  {
   "cell_type": "markdown",
   "id": "57485ead-994b-4f35-8973-ce2b48daecdd",
   "metadata": {},
   "source": [
    "Q17. How do you distinguish between copy.copy() and copy.deepcopy()?"
   ]
  },
  {
   "cell_type": "markdown",
   "id": "4e13b6fe-ffa0-4e6f-a46a-feae650baeb9",
   "metadata": {},
   "source": [
    "copy.copy(): This function creates a shallow copy of an object. A shallow copy creates a new object and copies the references of the original object's elements. However, if the elements themselves are mutable objects (like lists or dictionaries), the references to those objects are still shared between the original and the copied object. In other words, changes made to the mutable objects will be reflected in both the original and the copied object."
   ]
  },
  {
   "cell_type": "code",
   "execution_count": 34,
   "id": "c4f66a74-1fb3-4759-9219-e9d5e0ae4c93",
   "metadata": {},
   "outputs": [
    {
     "name": "stdout",
     "output_type": "stream",
     "text": [
      "[1, 2, [3, 4]]\n",
      "[1, 2, [3, 4]]\n"
     ]
    }
   ],
   "source": [
    "import copy\n",
    "list1 = [1, 2, [3, 4]]\n",
    "list2 = copy.copy(list1)\n",
    "print(list1)\n",
    "print(list2)"
   ]
  },
  {
   "cell_type": "markdown",
   "id": "1aab4beb-52c8-4c35-9dcb-8608e83a945a",
   "metadata": {},
   "source": [
    "copy.deepcopy(): This function creates a deep copy of an object. A deep copy creates a completely independent copy of an object and all its nested objects recursively. The new copy has its own separate memory and references. Changes made to the original object or any of its nested objects will not affect the deep copy."
   ]
  },
  {
   "cell_type": "code",
   "execution_count": 33,
   "id": "12153427-d669-4d80-8643-e2460b671e6c",
   "metadata": {},
   "outputs": [
    {
     "name": "stdout",
     "output_type": "stream",
     "text": [
      "[1, 2, [3, 4]]\n",
      "[1, 2, [3, 4]]\n"
     ]
    }
   ],
   "source": [
    "import copy\n",
    "\n",
    "list1 = [1, 2, [3, 4]]\n",
    "list2 = copy.deepcopy(list1)\n",
    "print(list1)\n",
    "print(list2)"
   ]
  }
 ],
 "metadata": {
  "kernelspec": {
   "display_name": "Python 3 (ipykernel)",
   "language": "python",
   "name": "python3"
  },
  "language_info": {
   "codemirror_mode": {
    "name": "ipython",
    "version": 3
   },
   "file_extension": ".py",
   "mimetype": "text/x-python",
   "name": "python",
   "nbconvert_exporter": "python",
   "pygments_lexer": "ipython3",
   "version": "3.10.6"
  }
 },
 "nbformat": 4,
 "nbformat_minor": 5
}
