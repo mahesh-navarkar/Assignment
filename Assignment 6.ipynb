{
 "cells": [
  {
   "cell_type": "markdown",
   "id": "dfbac8ca-45a5-488b-98fa-366e983e0acf",
   "metadata": {},
   "source": [
    "Q1. What are keywords in python? Using the keyword library, print all the python keywords."
   ]
  },
  {
   "cell_type": "code",
   "execution_count": 1,
   "id": "15113db7-229f-41cc-8eaa-1927f2310d52",
   "metadata": {},
   "outputs": [
    {
     "name": "stdout",
     "output_type": "stream",
     "text": [
      "['False', 'None', 'True', 'and', 'as', 'assert', 'async', 'await', 'break', 'class', 'continue', 'def', 'del', 'elif', 'else', 'except', 'finally', 'for', 'from', 'global', 'if', 'import', 'in', 'is', 'lambda', 'nonlocal', 'not', 'or', 'pass', 'raise', 'return', 'try', 'while', 'with', 'yield']\n"
     ]
    }
   ],
   "source": [
    "import keyword\n",
    "all_keywords = keyword.kwlist\n",
    "print(all_keywords)"
   ]
  },
  {
   "cell_type": "markdown",
   "id": "2c30083e-117b-4be6-8c3b-ccc92af6430e",
   "metadata": {},
   "source": [
    "Q2. What are the rules to create variables in python?"
   ]
  },
  {
   "cell_type": "markdown",
   "id": "d4ea7215-0695-4454-b86e-cd476341caab",
   "metadata": {},
   "source": [
    "1) A variable name must start with a letter or the underscore character\n",
    "2) A variable name cannot start with a number\n",
    "3) A variable name can only contain alpha-numeric characters and underscores (A-z, 0-9, and _ )\n",
    "4) Variable names are case-sensitive (name, Name and NAME are three different variables)"
   ]
  },
  {
   "cell_type": "markdown",
   "id": "22db4eda-7091-4ce9-a1d3-ce8f311496f6",
   "metadata": {},
   "source": [
    "Q3. What are the standards and conventions followed for the nomenclature of variables in python to improve code readability and maintainability?"
   ]
  },
  {
   "cell_type": "markdown",
   "id": "94be42f5-bb2a-4753-8bfc-5c044ae0de73",
   "metadata": {},
   "source": [
    "1) Use descriptive names: Choose variable names that clearly indicate the purpose or meaning of the data they represent. This helps make your code more understandable to others (including your future self).\n",
    "\n",
    "2) Use lowercase with underscores: Variable names should be in lowercase letters, and words within the variable name can be separated by underscores (_). This convention is known as snake_case. For example: my_variable, user_name, total_count.\n",
    "\n",
    "3) Avoid using single-character names: In general, avoid using single letters as variable names, unless they represent a well-known convention (e.g., i for a loop counter). Instead, opt for more descriptive names that provide context.\n",
    "\n",
    "4) Be consistent: Maintain consistency in your variable naming style throughout your codebase. Consistency makes the code easier to read and understand. For example, if you use snake_case for variable names, stick to that style consistently.\n",
    "\n",
    "5) Follow naming conventions for specific cases: There are some specific conventions for certain types of variables, such as using all uppercase letters for constants (e.g., MAX_SIZE, PI) and using initial capital letters for class names (following the PascalCase convention).\n",
    "\n",
    "6) Avoid using reserved keywords: Ensure that your variable names do not conflict with Python's reserved keywords. Avoid using keywords like if, for, while, def, and so on as variable names.\n",
    "\n",
    "7) Use meaningful prefixes or suffixes: In some cases, adding a prefix or suffix to a variable name can provide additional context or clarify its purpose. For example, using is_ prefix for boolean variables (is_active, is_valid) or _list suffix for lists (items_list, names_list)."
   ]
  },
  {
   "cell_type": "markdown",
   "id": "cff86233-193f-439a-874d-6efaaf25e9f6",
   "metadata": {},
   "source": [
    "Q4. What will happen if a keyword is used as a variable name?"
   ]
  },
  {
   "cell_type": "markdown",
   "id": "7d8cdd79-e50b-4f7f-8c63-96b057da5621",
   "metadata": {},
   "source": [
    "If you use a keyword as a variable name in Python, it will result in a syntax error. Keywords are reserved words in the Python language with predefined meanings, and they cannot be used as identifiers (such as variable names, function names, or class names)."
   ]
  },
  {
   "cell_type": "markdown",
   "id": "0c37f777-66e3-4db0-9105-ec798dacecbd",
   "metadata": {},
   "source": [
    "Q5. For what purpose def keyword is used?"
   ]
  },
  {
   "cell_type": "markdown",
   "id": "8603922b-12d5-42d0-805c-fb4e39f6143a",
   "metadata": {},
   "source": [
    "The def keyword in Python is used to define a function. Functions are blocks of reusable code that perform a specific task. By using the def keyword, you can create your own functions to encapsulate a set of instructions and provide a modular approach to code organization."
   ]
  },
  {
   "cell_type": "markdown",
   "id": "8363ae96-fdff-4f31-98ce-9deb85cfb9b6",
   "metadata": {},
   "source": [
    "Q6. What is the operation of this special character ‘\\’?"
   ]
  },
  {
   "cell_type": "markdown",
   "id": "bb437cb8-5f34-485c-9025-2c5da5f05235",
   "metadata": {},
   "source": [
    "Escape sequences: The backslash is used to create escape sequences in strings. An escape sequence represents a special character or behavior. For example:\n",
    "1) \\\\ represents a literal backslash character.\n",
    "2) \\n represents a newline character.\n",
    "3) \\t represents a tab character.\n",
    "4) \\r represents a carriage return character, etc."
   ]
  },
  {
   "cell_type": "markdown",
   "id": "3b87c388-e39f-4a2c-a51c-a6d4b72191ee",
   "metadata": {},
   "source": [
    "Q7. Give an example of the following conditions:\n",
    "(i) Homogeneous list\n",
    "(ii) Heterogeneous set\n",
    "(iii) Homogeneous tuple"
   ]
  },
  {
   "cell_type": "markdown",
   "id": "fcd2978c-0705-4715-91e2-ea9675691a6b",
   "metadata": {},
   "source": [
    "(i) Homogeneous list: A homogeneous list in Python is a list that contains elements of the same data type. "
   ]
  },
  {
   "cell_type": "code",
   "execution_count": 1,
   "id": "3430964f-6023-44db-a818-25b56e33d845",
   "metadata": {},
   "outputs": [],
   "source": [
    "numbers = [1, 2, 3, 4, 5]"
   ]
  },
  {
   "cell_type": "markdown",
   "id": "fbc27577-95d5-494b-93bc-33fb11a70a95",
   "metadata": {},
   "source": [
    "(ii) Heterogeneous set: A set in Python can contain elements of different data types. "
   ]
  },
  {
   "cell_type": "code",
   "execution_count": 2,
   "id": "0a47e5a5-4d2f-440b-ab62-5f62cbf0f0cb",
   "metadata": {},
   "outputs": [],
   "source": [
    "my_set = {1, 'John', True, 3.14, (1, 2, 3)}"
   ]
  },
  {
   "cell_type": "markdown",
   "id": "a498d319-979a-4ba5-9616-d360db66eddf",
   "metadata": {},
   "source": [
    "(iii) Homogeneous tuple: A homogeneous tuple in Python is a tuple that contains elements of the same data type."
   ]
  },
  {
   "cell_type": "code",
   "execution_count": 3,
   "id": "0f88d94a-8890-459f-9c20-8c04baa3f088",
   "metadata": {},
   "outputs": [],
   "source": [
    "temperatures = (23.5, 24.2, 22.8, 25.1, 23.9)"
   ]
  },
  {
   "cell_type": "markdown",
   "id": "9544624b-278f-41da-8bfe-3e14659a548e",
   "metadata": {},
   "source": [
    "Q8. Explain the mutable and immutable data types with proper explanation & examples."
   ]
  },
  {
   "cell_type": "markdown",
   "id": "ade8bf2b-4dcb-4617-bd7d-af11bf556bce",
   "metadata": {},
   "source": [
    "Mutable Data Types:\n",
    "\n",
    "Mutable objects are those whose values can be modified after they are created.\n",
    "When a mutable object is modified, it is updated in place, and the memory location remains the same.\n",
    "Examples of mutable data types in Python include lists, sets, and dictionaries.\n",
    "Changes made to a mutable object are visible even after assignment."
   ]
  },
  {
   "cell_type": "code",
   "execution_count": 4,
   "id": "52c1ecc7-e3e5-4a63-b782-18bc59afb725",
   "metadata": {},
   "outputs": [
    {
     "name": "stdout",
     "output_type": "stream",
     "text": [
      "[10, 2, 3]\n"
     ]
    }
   ],
   "source": [
    "my_list = [1, 2, 3]\n",
    "my_list[0] = 10\n",
    "print(my_list)"
   ]
  },
  {
   "cell_type": "markdown",
   "id": "883256e1-d973-4125-b30d-afd27fa3a66d",
   "metadata": {},
   "source": [
    "Immutable Data Types:\n",
    "\n",
    "Immutable objects are those whose values cannot be modified after they are created.\n",
    "When an immutable object is modified, a new object is created in memory with the updated value.\n",
    "Examples of immutable data types in Python include strings, numbers (integers, floats), and tuples.\n",
    "Changes made to an immutable object create a new object, and the original object remains unchanged."
   ]
  },
  {
   "cell_type": "code",
   "execution_count": 5,
   "id": "82795273-13b1-4922-9465-a93ee146fc27",
   "metadata": {},
   "outputs": [
    {
     "name": "stdout",
     "output_type": "stream",
     "text": [
      "Hello World\n",
      "Hello\n"
     ]
    }
   ],
   "source": [
    "my_string = \"Hello\"\n",
    "modified_string = my_string + \" World\"\n",
    "print(modified_string)\n",
    "print(my_string)"
   ]
  },
  {
   "cell_type": "markdown",
   "id": "81826824-46de-42b3-a0a6-8dc6c6859fe4",
   "metadata": {},
   "source": [
    "Q9. Write a code to create the given structure using only for loop."
   ]
  },
  {
   "cell_type": "code",
   "execution_count": 6,
   "id": "2f52911a-ac53-4e00-80e1-9a837601b2d9",
   "metadata": {},
   "outputs": [
    {
     "name": "stdout",
     "output_type": "stream",
     "text": [
      "    *\n",
      "   ***\n",
      "  *****\n",
      " *******\n",
      "*********\n"
     ]
    }
   ],
   "source": [
    "n = 5\n",
    "for i in range(1, n + 1):\n",
    "    for j in range(n - i):\n",
    "        print(\" \", end=\"\")\n",
    "    for k in range(2 * i - 1):\n",
    "        print(\"*\", end=\"\")\n",
    "    print()"
   ]
  },
  {
   "cell_type": "markdown",
   "id": "3e3cd7d4-881b-404f-b4fb-18690f9a51ff",
   "metadata": {},
   "source": [
    "Q10. Write a code to create the given structure using while loop."
   ]
  },
  {
   "cell_type": "code",
   "execution_count": 11,
   "id": "042886e0-4b54-445c-8cdf-b56988435188",
   "metadata": {},
   "outputs": [
    {
     "name": "stdout",
     "output_type": "stream",
     "text": [
      "|||||||||\n",
      " |||||||\n",
      "  |||||\n",
      "   |||\n",
      "    |\n"
     ]
    }
   ],
   "source": [
    "n = 5  # Number of rows\n",
    "row = 1  # Starting row\n",
    "\n",
    "while row <= n:\n",
    "    # Print spaces\n",
    "    spaces = row - 1\n",
    "    while spaces > 0:\n",
    "        print(\" \", end=\"\")\n",
    "        spaces -= 1\n",
    "\n",
    "    # Print vertical bars\n",
    "    vertical_bars = 2 * (n - row) + 1\n",
    "    while vertical_bars > 0:\n",
    "        print(\"|\", end=\"\")\n",
    "        vertical_bars -= 1\n",
    "\n",
    "    print()  # Move to the next line\n",
    "    row += 1"
   ]
  }
 ],
 "metadata": {
  "kernelspec": {
   "display_name": "Python 3 (ipykernel)",
   "language": "python",
   "name": "python3"
  },
  "language_info": {
   "codemirror_mode": {
    "name": "ipython",
    "version": 3
   },
   "file_extension": ".py",
   "mimetype": "text/x-python",
   "name": "python",
   "nbconvert_exporter": "python",
   "pygments_lexer": "ipython3",
   "version": "3.10.6"
  }
 },
 "nbformat": 4,
 "nbformat_minor": 5
}
