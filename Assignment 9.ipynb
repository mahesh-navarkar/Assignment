{
 "cells": [
  {
   "cell_type": "markdown",
   "id": "dcbe433c-0c0b-42a2-8b7a-b86efb7d6083",
   "metadata": {},
   "source": [
    "Q1. What is a lambda function in Python, and how does it differ from a regular function?"
   ]
  },
  {
   "cell_type": "markdown",
   "id": "665c5fd3-e92d-4fc7-adcb-f4b4a4894948",
   "metadata": {},
   "source": [
    "In Python, a lambda function is a small, anonymous function defined using the lambda keyword. It is also known as an inline function or a lambda expression. Unlike regular functions created with the def keyword, lambda functions are typically used for simple operations and can be defined in a single line."
   ]
  },
  {
   "cell_type": "markdown",
   "id": "d9e6e2c9-f756-423f-ab00-92bf79ce6035",
   "metadata": {},
   "source": [
    "Q2. Can a lambda function in Python have multiple arguments? If yes, how can you define and use them?"
   ]
  },
  {
   "cell_type": "markdown",
   "id": "ee530117-4198-4dcb-a4e6-aa7a5c67c2d3",
   "metadata": {},
   "source": [
    "Yes, a lambda function in Python can have multiple arguments. You can define lambda functions with any number of arguments, separated by commas, just like in a regular function."
   ]
  },
  {
   "cell_type": "code",
   "execution_count": 2,
   "id": "4d1a2eab-9842-4214-8e6b-fb85ff335819",
   "metadata": {},
   "outputs": [
    {
     "name": "stdout",
     "output_type": "stream",
     "text": [
      "8\n"
     ]
    }
   ],
   "source": [
    "addition_lambda = lambda x, y: x + y\n",
    "result = addition_lambda(3, 5)\n",
    "print(result)"
   ]
  },
  {
   "cell_type": "markdown",
   "id": "0adbab37-0009-40bd-8678-d0e504c6963e",
   "metadata": {},
   "source": [
    "Q3. How are lambda functions typically used in Python? Provide an example use case."
   ]
  },
  {
   "cell_type": "markdown",
   "id": "b8263c80-cb52-4358-893d-ea03ee9dbbb6",
   "metadata": {},
   "source": [
    "Lambda functions in Python are typically used in situations where a small, simple function is needed temporarily, and it is more convenient to define the function inline rather than creating a separate named function using def. They are commonly used in conjunction with higher-order functions like map, filter, reduce, and sorted. Lambda functions are also useful for creating concise and readable code in certain scenarios."
   ]
  },
  {
   "cell_type": "markdown",
   "id": "c86129b0-b436-4cd1-89f6-e30c8b9b62a3",
   "metadata": {},
   "source": [
    "Let's say you have a list of names, and you want to sort them based on the length of each name. You can use the sorted function with a lambda function as the key argument to achieve this:"
   ]
  },
  {
   "cell_type": "code",
   "execution_count": 4,
   "id": "c5ea6eda-3d18-48cf-882b-6b65ab9693c3",
   "metadata": {},
   "outputs": [
    {
     "name": "stdout",
     "output_type": "stream",
     "text": [
      "['Mahesh', 'Prasad', 'Sonali', 'Chhagan', 'Shubham']\n"
     ]
    }
   ],
   "source": [
    "names = [\"Mahesh\", \"Chhagan\", \"Shubham\", \"Prasad\", \"Sonali\"]\n",
    "\n",
    "# Using a lambda function to sort by the length of each name\n",
    "sorted_names = sorted(names, key=lambda x: len(x))\n",
    "print(sorted_names)\n"
   ]
  },
  {
   "cell_type": "markdown",
   "id": "cda88f93-536b-45d6-9434-bfca79d4998b",
   "metadata": {},
   "source": [
    "Q4. What are the advantages and limitations of lambda functions compared to regular functions in Python?"
   ]
  },
  {
   "cell_type": "markdown",
   "id": "9b60c0af-6154-4f22-a726-95ad3ec572c7",
   "metadata": {},
   "source": [
    "lambda functions are useful for short, one-time operations where conciseness and inline usage are preferred. On the other hand, regular functions are more versatile and suitable for larger, more complex operations, offering better readability, reusability, and debugging capabilities. The choice between lambda functions and regular functions depends on the specific use case and the complexity of the task at hand."
   ]
  },
  {
   "cell_type": "markdown",
   "id": "d92593fa-d7f1-4ea7-bf5d-36aa35ebc486",
   "metadata": {},
   "source": [
    "Q5. Are lambda functions in Python able to access variables defined outside of their own scope? Explain with an example."
   ]
  },
  {
   "cell_type": "markdown",
   "id": "eedaa271-33cd-4888-a0f7-d80336a997e2",
   "metadata": {},
   "source": [
    "Yes, lambda functions in Python can access variables defined outside of their own scope. When a lambda function is created, it captures the variables in its surrounding lexical scope, which is known as a \"closure.\" This allows the lambda function to use those variables even if they are not passed as arguments explicitly."
   ]
  },
  {
   "cell_type": "code",
   "execution_count": 5,
   "id": "859729b0-61ca-4e58-9710-f74f9f53b800",
   "metadata": {},
   "outputs": [
    {
     "name": "stdout",
     "output_type": "stream",
     "text": [
      "15\n"
     ]
    }
   ],
   "source": [
    "def outer_function():\n",
    "    outer_variable = 10\n",
    "\n",
    "    # Lambda function that uses the outer_variable\n",
    "    inner_lambda = lambda x: x + outer_variable\n",
    "\n",
    "    return inner_lambda\n",
    "\n",
    "# Create the lambda function and assign it to a variable\n",
    "closure_function = outer_function()\n",
    "\n",
    "# Call the lambda function with an argument\n",
    "result = closure_function(5)\n",
    "print(result)  # Output: 15 (5 + 10)"
   ]
  },
  {
   "cell_type": "markdown",
   "id": "ba9e2d3a-17ae-45e5-86b7-1c330de6648f",
   "metadata": {},
   "source": [
    "Q6. Write a lambda function to calculate the square of a given number."
   ]
  },
  {
   "cell_type": "code",
   "execution_count": 7,
   "id": "9b65b8ec-2c08-4092-abc5-8dbd875397d4",
   "metadata": {},
   "outputs": [
    {
     "name": "stdout",
     "output_type": "stream",
     "text": [
      "25\n"
     ]
    }
   ],
   "source": [
    "square = lambda x: x**2\n",
    "result = square(5)\n",
    "print(result)"
   ]
  },
  {
   "cell_type": "markdown",
   "id": "9ca4841b-651a-4e7a-bba2-855aef890afc",
   "metadata": {},
   "source": [
    "Q7. Create a lambda function to find the maximum value in a list of integers."
   ]
  },
  {
   "cell_type": "code",
   "execution_count": 8,
   "id": "d6449783-db33-40fb-9553-5975bf5ec99d",
   "metadata": {},
   "outputs": [
    {
     "name": "stdout",
     "output_type": "stream",
     "text": [
      "12\n"
     ]
    }
   ],
   "source": [
    "find_max = lambda lst: max(lst)\n",
    "numbers = [3, 8, 1, 12, 5]\n",
    "max_value = find_max(numbers)\n",
    "print(max_value)"
   ]
  },
  {
   "cell_type": "markdown",
   "id": "ef169c64-64ed-444a-a192-3cd3b2f1a175",
   "metadata": {},
   "source": [
    "Q8. Implement a lambda function to filter out all the even numbers from a list of integers."
   ]
  },
  {
   "cell_type": "code",
   "execution_count": 9,
   "id": "e4b3c9b9-2514-4a4a-86fd-5b0be783a2d7",
   "metadata": {},
   "outputs": [
    {
     "name": "stdout",
     "output_type": "stream",
     "text": [
      "[2, 4, 6, 8, 10]\n"
     ]
    }
   ],
   "source": [
    "filter_even = lambda lst: list(filter(lambda x: x % 2 == 0, lst))\n",
    "numbers = [1, 2, 3, 4, 5, 6, 7, 8, 9, 10]\n",
    "even_numbers = filter_even(numbers)\n",
    "print(even_numbers)"
   ]
  },
  {
   "cell_type": "markdown",
   "id": "b3abb2b3-3519-42bf-bbf9-d1ad4ff8ea4d",
   "metadata": {},
   "source": [
    "Q9. Write a lambda function to sort a list of strings in ascending order based on the length of each string."
   ]
  },
  {
   "cell_type": "code",
   "execution_count": 11,
   "id": "bc2444ae-aec5-4645-b2be-f263c1c576ed",
   "metadata": {},
   "outputs": [
    {
     "name": "stdout",
     "output_type": "stream",
     "text": [
      "['kiwi', 'apple', 'grape', 'banana', 'orange']\n"
     ]
    }
   ],
   "source": [
    "sort_by_length = lambda lst: sorted(lst, key=lambda x: len(x))\n",
    "words = [\"apple\", \"banana\", \"orange\", \"grape\", \"kiwi\"]\n",
    "sorted_words = sort_by_length(words)\n",
    "print(sorted_words)"
   ]
  },
  {
   "cell_type": "markdown",
   "id": "1e1ffe64-19d8-4cfb-83b8-73a5c072814d",
   "metadata": {},
   "source": [
    "Q10. Create a lambda function that takes two lists as input and returns a new list containing the common elements between the two lists."
   ]
  },
  {
   "cell_type": "code",
   "execution_count": 12,
   "id": "3dc39831-cd24-4231-a657-02a35a251261",
   "metadata": {},
   "outputs": [
    {
     "name": "stdout",
     "output_type": "stream",
     "text": [
      "[3, 4, 5]\n"
     ]
    }
   ],
   "source": [
    "find_common_elements = lambda list1, list2: list(filter(lambda x: x in list2, list1))\n",
    "list1 = [1, 2, 3, 4, 5]\n",
    "list2 = [3, 4, 5, 6, 7]\n",
    "common_elements = find_common_elements(list1, list2)\n",
    "print(common_elements)"
   ]
  },
  {
   "cell_type": "markdown",
   "id": "c46b171c-f460-4327-915c-ba74fbc2e718",
   "metadata": {},
   "source": [
    "Q11. Write a recursive function to calculate the factorial of a given positive integer."
   ]
  },
  {
   "cell_type": "code",
   "execution_count": 15,
   "id": "41d520f0-0dc1-434d-8a81-a35a9cb4f134",
   "metadata": {},
   "outputs": [
    {
     "name": "stdout",
     "output_type": "stream",
     "text": [
      "120\n",
      "1\n",
      "1\n",
      "3628800\n"
     ]
    }
   ],
   "source": [
    "def factorial(n):\n",
    "    if n == 0 or n == 1:\n",
    "        return 1\n",
    "    else:\n",
    "        return n * factorial(n - 1)\n",
    "    \n",
    "print(factorial(5))  # Output: 120 (5! = 5 * 4 * 3 * 2 * 1)\n",
    "print(factorial(0))\n",
    "print(factorial(1))\n",
    "print(factorial(10))"
   ]
  },
  {
   "cell_type": "markdown",
   "id": "a5d172ce-cca3-4afa-8067-363292e7acb5",
   "metadata": {},
   "source": [
    "Q12. Implement a recursive function to compute the nth Fibonacci number."
   ]
  },
  {
   "cell_type": "code",
   "execution_count": 16,
   "id": "66f3cc38-9b53-4853-993c-7443b048efc7",
   "metadata": {},
   "outputs": [
    {
     "name": "stdout",
     "output_type": "stream",
     "text": [
      "0\n",
      "1\n",
      "3\n",
      "34\n"
     ]
    }
   ],
   "source": [
    "def fibonacci(n):\n",
    "    if n <= 0:\n",
    "        raise ValueError(\"Input must be a positive integer.\")\n",
    "    elif n == 1:\n",
    "        return 0\n",
    "    elif n == 2:\n",
    "        return 1\n",
    "    else:\n",
    "        return fibonacci(n - 1) + fibonacci(n - 2)\n",
    "\n",
    "    \n",
    "print(fibonacci(1))  # Output: 0\n",
    "print(fibonacci(2))  # Output: 1\n",
    "print(fibonacci(5))  # Output: 3 (Fibonacci sequence: 0, 1, 1, 2, 3)\n",
    "print(fibonacci(10))"
   ]
  },
  {
   "cell_type": "markdown",
   "id": "3a391ae3-30e3-4633-87a1-d836a32c4ff5",
   "metadata": {},
   "source": [
    "Q13. Create a recursive function to find the sum of all the elements in a given list."
   ]
  },
  {
   "cell_type": "code",
   "execution_count": 17,
   "id": "327a94de-3c05-4912-9340-e5f18883b60b",
   "metadata": {},
   "outputs": [
    {
     "name": "stdout",
     "output_type": "stream",
     "text": [
      "15\n",
      "60\n",
      "0\n"
     ]
    }
   ],
   "source": [
    "def recursive_sum(lst):\n",
    "    if not lst:\n",
    "        return 0\n",
    "    else:\n",
    "        return lst[0] + recursive_sum(lst[1:])\n",
    "    \n",
    "print(recursive_sum([1, 2, 3, 4, 5]))  # Output: 15 (1 + 2 + 3 + 4 + 5)\n",
    "print(recursive_sum([10, 20, 30]))     # Output: 60 (10 + 20 + 30)\n",
    "print(recursive_sum([]))"
   ]
  },
  {
   "cell_type": "markdown",
   "id": "308e23ab-d585-407f-8b76-8a8c4b3e944c",
   "metadata": {},
   "source": [
    "Q14. Write a recursive function to determine whether a given string is a palindrome."
   ]
  },
  {
   "cell_type": "code",
   "execution_count": 18,
   "id": "390d9ce2-10af-460d-9ab0-ab29afcbb00d",
   "metadata": {},
   "outputs": [
    {
     "name": "stdout",
     "output_type": "stream",
     "text": [
      "True\n",
      "True\n",
      "False\n",
      "True\n",
      "True\n",
      "False\n"
     ]
    }
   ],
   "source": [
    "def is_palindrome(s):\n",
    "    # Base case: If the string is empty or has only one character, it is a palindrome\n",
    "    if len(s) <= 1:\n",
    "        return True\n",
    "    # Check if the first and last characters are the same\n",
    "    elif s[0] != s[-1]:\n",
    "        return False\n",
    "    else:\n",
    "        # Recursive call: Check if the substring without the first and last characters is a palindrome\n",
    "        return is_palindrome(s[1:-1])\n",
    "\n",
    "print(is_palindrome(\"radar\"))      # Output: True\n",
    "print(is_palindrome(\"level\"))      # Output: True\n",
    "print(is_palindrome(\"python\"))     # Output: False\n",
    "print(is_palindrome(\"racecar\"))    # Output: True\n",
    "print(is_palindrome(\"madam\"))      # Output: True\n",
    "print(is_palindrome(\"hello\"))      # Output: False"
   ]
  },
  {
   "cell_type": "markdown",
   "id": "f9e6b9f5-4420-4a96-bbf3-a54c1f1b16bc",
   "metadata": {},
   "source": [
    "Q15. Implement a recursive function to find the greatest common divisor (GCD) of two positive integers."
   ]
  },
  {
   "cell_type": "code",
   "execution_count": 19,
   "id": "35c1ea3e-8a0d-42bf-be5f-93967d16f77d",
   "metadata": {},
   "outputs": [
    {
     "name": "stdout",
     "output_type": "stream",
     "text": [
      "12\n",
      "12\n",
      "1\n",
      "35\n"
     ]
    }
   ],
   "source": [
    "def gcd(a, b):\n",
    "    if b == 0:\n",
    "        return a\n",
    "    else:\n",
    "        return gcd(b, a % b)\n",
    "\n",
    "print(gcd(24, 36))    # Output: 12 (GCD of 24 and 36)\n",
    "print(gcd(60, 48))    # Output: 12 (GCD of 60 and 48)\n",
    "print(gcd(18, 23))    # Output: 1 (GCD of 18 and 23 is 1, as they are co-prime)\n",
    "print(gcd(105, 140))  # Output: 35 (GCD of 105 and 140)"
   ]
  },
  {
   "cell_type": "code",
   "execution_count": null,
   "id": "8850d620-ed0f-48ff-907e-6d22a375d625",
   "metadata": {},
   "outputs": [],
   "source": []
  }
 ],
 "metadata": {
  "kernelspec": {
   "display_name": "Python 3 (ipykernel)",
   "language": "python",
   "name": "python3"
  },
  "language_info": {
   "codemirror_mode": {
    "name": "ipython",
    "version": 3
   },
   "file_extension": ".py",
   "mimetype": "text/x-python",
   "name": "python",
   "nbconvert_exporter": "python",
   "pygments_lexer": "ipython3",
   "version": "3.10.6"
  }
 },
 "nbformat": 4,
 "nbformat_minor": 5
}
