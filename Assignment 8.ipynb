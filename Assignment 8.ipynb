{
 "cells": [
  {
   "cell_type": "markdown",
   "id": "97b65161-8fa7-4a77-b89e-f159b2f1782c",
   "metadata": {},
   "source": [
    "Q1. In Python, what is the difference between a built-in function and a user-defined function? Provide an example of each."
   ]
  },
  {
   "cell_type": "markdown",
   "id": "865e1445-7bd2-4116-808e-168d3da482dc",
   "metadata": {},
   "source": [
    "1) Built-in Function:\n",
    "A built-in function is a function that is provided by the Python programming language as part of its standard library. These functions are readily available for use without requiring any additional steps for their definition. Built-in functions cover a wide range of operations and functionalities, including mathematical calculations, string manipulations, file operations, etc. They are implemented in the underlying Python interpreter and are accessible from anywhere within the code.\n",
    "\n",
    "Example of a built-in function:\n",
    "The len() function is a built-in function that returns the length of an object, such as a string, list, or tuple."
   ]
  },
  {
   "cell_type": "code",
   "execution_count": 1,
   "id": "43de56ff-2005-49fe-907c-0abeb5b958be",
   "metadata": {},
   "outputs": [
    {
     "name": "stdout",
     "output_type": "stream",
     "text": [
      "13\n"
     ]
    }
   ],
   "source": [
    "my_string = \"Hello, world!\"\n",
    "length = len(my_string)\n",
    "print(length)"
   ]
  },
  {
   "cell_type": "markdown",
   "id": "a8397e48-ea18-4cf1-91f3-94e852570ab7",
   "metadata": {},
   "source": [
    "2) User-defined Function:\n",
    "A user-defined function is a function defined by the user to perform a specific task or set of tasks. Users can define their functions according to their requirements, giving them custom names and implementing the desired functionality using a block of code. These functions provide modularity and code reusability, allowing users to organize their code and encapsulate specific tasks within functions.\n",
    "\n",
    "Example of a user-defined function:\n",
    "The following code defines a user-defined function named multiply_numbers() that multiplies two given numbers and returns the result:"
   ]
  },
  {
   "cell_type": "code",
   "execution_count": 2,
   "id": "05ab70a9-c2fb-4653-981c-23f670c230f6",
   "metadata": {},
   "outputs": [
    {
     "name": "stdout",
     "output_type": "stream",
     "text": [
      "15\n"
     ]
    }
   ],
   "source": [
    "def multiply_numbers(a, b):\n",
    "    return a * b\n",
    "\n",
    "result = multiply_numbers(5, 3)\n",
    "print(result)"
   ]
  },
  {
   "cell_type": "markdown",
   "id": "da1f9acb-d851-4ed9-86dc-bb02240cfcd8",
   "metadata": {},
   "source": [
    "Q2. How can you pass arguments to a function in Python? Explain the difference between positional arguments and keyword arguments."
   ]
  },
  {
   "cell_type": "markdown",
   "id": "49c5971f-1f55-49a6-b9e8-327849c0a4b7",
   "metadata": {},
   "source": [
    "1) Positional Arguments:\n",
    "Positional arguments are passed to a function based on their position or order. When you call a function and provide values for the arguments, Python matches the values to the function parameters in the order they appear. The number and order of the arguments must match the function definition"
   ]
  },
  {
   "cell_type": "code",
   "execution_count": 1,
   "id": "8a4b3199-5104-42cf-be08-8fac2a447f44",
   "metadata": {},
   "outputs": [
    {
     "name": "stdout",
     "output_type": "stream",
     "text": [
      "Hello Mahesh! You are 23 years old.\n"
     ]
    }
   ],
   "source": [
    "def greet(name, age):\n",
    "    print(f\"Hello {name}! You are {age} years old.\")\n",
    "\n",
    "greet(\"Mahesh\", 23)  # Positional arguments"
   ]
  },
  {
   "cell_type": "markdown",
   "id": "348ed295-e721-4813-b68e-a39e1a943c8e",
   "metadata": {},
   "source": [
    "2) Keyword Arguments:\n",
    "Keyword arguments are passed to a function using the name of the parameter as a key and the corresponding value. With keyword arguments, you can specify the arguments in any order, as long as you provide the parameter name."
   ]
  },
  {
   "cell_type": "code",
   "execution_count": 2,
   "id": "728d1675-1ac6-40a1-846c-a3d976d7b2f3",
   "metadata": {},
   "outputs": [
    {
     "name": "stdout",
     "output_type": "stream",
     "text": [
      "Hello Mahesh! You are 23 years old.\n"
     ]
    }
   ],
   "source": [
    "def greet(name, age):\n",
    "    print(f\"Hello {name}! You are {age} years old.\")\n",
    "\n",
    "greet(age=23, name=\"Mahesh\")  # Keyword arguments"
   ]
  },
  {
   "cell_type": "markdown",
   "id": "e920b931-76fc-49dc-8cf1-14de63c46564",
   "metadata": {},
   "source": [
    "Q3. What is the purpose of the return statement in a function? Can a function have multiple return statements? Explain with an example."
   ]
  },
  {
   "cell_type": "markdown",
   "id": "9b1be351-65a6-4a91-8665-d054c811702d",
   "metadata": {},
   "source": [
    "The return statement in a function serves the purpose of specifying the value or values that the function should produce as output. When a return statement is encountered in a function, the function execution halts, and the specified value or values are returned to the caller.\n",
    "\n",
    "A function can indeed have multiple return statements, which allows you to return different values based on certain conditions or different execution paths within the function. Once a return statement is executed, the function terminates, and the specified value is returned to the caller."
   ]
  },
  {
   "cell_type": "code",
   "execution_count": 1,
   "id": "ef3ca88a-1c77-4dea-9384-bef02f44865e",
   "metadata": {},
   "outputs": [
    {
     "name": "stdout",
     "output_type": "stream",
     "text": [
      "Positive\n",
      "Negative\n",
      "Zero\n"
     ]
    }
   ],
   "source": [
    "def check_number(num):\n",
    "    if num > 0:\n",
    "        return \"Positive\"\n",
    "    elif num < 0:\n",
    "        return \"Negative\"\n",
    "    else:\n",
    "        return \"Zero\"\n",
    "\n",
    "result1 = check_number(5)\n",
    "print(result1)  # Output: Positive\n",
    "\n",
    "result2 = check_number(-3)\n",
    "print(result2)  # Output: Negative\n",
    "\n",
    "result3 = check_number(0)\n",
    "print(result3)  # Output: Zero\n"
   ]
  },
  {
   "cell_type": "markdown",
   "id": "023aa1d4-a167-4a51-a6bb-8dd84ba3765d",
   "metadata": {},
   "source": [
    "Q4. What are lambda functions in Python? How are they different from regular functions? Provide an example where a lambda function can be useful."
   ]
  },
  {
   "cell_type": "markdown",
   "id": "9ab79122-f048-44bf-b7b0-240878514157",
   "metadata": {},
   "source": [
    "In Python, lambda functions, also known as anonymous functions, are small, one-line functions that are defined without a name. They are typically used when you need a simple function that you don't intend to reuse or define separately.\n",
    "\n",
    "The syntax of a lambda function is as follows: lambda arguments: expression"
   ]
  },
  {
   "cell_type": "markdown",
   "id": "6eba4ea4-a1f7-43c6-ac0b-d13c1eeba60f",
   "metadata": {},
   "source": [
    "1) Lambda functions are anonymous: Unlike regular functions defined with the def keyword, lambda functions don't have a name. They are created using the lambda keyword and are often used in situational or temporary contexts.\n",
    "2) Lambda functions are single-line: Lambda functions are limited to a single expression. They are designed to be concise and used for simple tasks, avoiding the need to define a full-fledged function with multiple lines.\n",
    "3) Lambda functions return automatically: Lambda functions automatically return the value of the expression they contain, without needing an explicit return statement."
   ]
  },
  {
   "cell_type": "code",
   "execution_count": 2,
   "id": "9136993e-6223-4120-8ce2-2678ba2dc36f",
   "metadata": {},
   "outputs": [
    {
     "name": "stdout",
     "output_type": "stream",
     "text": [
      "12\n"
     ]
    }
   ],
   "source": [
    "multiply = lambda x, y: x * y\n",
    "result = multiply(3, 4)\n",
    "print(result)  # Output: 12"
   ]
  },
  {
   "cell_type": "markdown",
   "id": "5dca46b6-791d-4379-af9c-2d3e006861e9",
   "metadata": {},
   "source": [
    "Q5. How does the concept of \"scope\" apply to functions in Python? Explain the difference between local\n",
    "scope and global scope."
   ]
  },
  {
   "cell_type": "markdown",
   "id": "d4fbb956-9057-49e0-9d78-2598734ab2ff",
   "metadata": {},
   "source": [
    "In Python, the concept of \"scope\" refers to the visibility and accessibility of variables within different parts of your code. It determines where and how variables can be accessed and modified. Scope is particularly relevant when it comes to functions, as variables defined inside functions have different scopes compared to variables defined outside functions.\n",
    "\n",
    "1) Local Scope:\n",
    "Variables defined inside a function have a local scope. They are only accessible within the function itself and are not visible outside of it. Local variables are created when the function is called and destroyed when the function finishes execution. This means that each time a function is called, a new set of local variables is created."
   ]
  },
  {
   "cell_type": "code",
   "execution_count": null,
   "id": "ef7d0dbe-00e4-4c26-9be8-fe586a3cd133",
   "metadata": {},
   "outputs": [],
   "source": [
    "def greet():\n",
    "    name = \"Alice\"\n",
    "    print(f\"Hello, {name}!\")\n",
    "\n",
    "greet()  # Output: Hello, Alice!\n",
    "\n",
    "print(name)  # Error: NameError: name 'name' is not defined"
   ]
  },
  {
   "cell_type": "markdown",
   "id": "6e436aa9-9350-41bd-b73e-a0abb13e2fed",
   "metadata": {},
   "source": [
    "2) Global Scope:\n",
    "Variables defined outside any function, at the top level of the script or module, have a global scope. They are accessible from anywhere within the code, including inside functions. Global variables are created when they are first assigned a value and persist until the program finishes execution."
   ]
  },
  {
   "cell_type": "code",
   "execution_count": 5,
   "id": "34511646-0836-4cee-85ec-98d4b76f3df1",
   "metadata": {},
   "outputs": [
    {
     "name": "stdout",
     "output_type": "stream",
     "text": [
      "Hello, Alice!\n",
      "Alice\n"
     ]
    }
   ],
   "source": [
    "name = \"Alice\"\n",
    "\n",
    "def greet():\n",
    "    print(f\"Hello, {name}!\")\n",
    "\n",
    "greet()  # Output: Hello, Alice!\n",
    "\n",
    "print(name)  # Output: Alice"
   ]
  },
  {
   "cell_type": "markdown",
   "id": "742860c3-f5cf-456a-bb0d-c58ca5412353",
   "metadata": {},
   "source": [
    "Q6. How can you use the \"return\" statement in a Python function to return multiple values?"
   ]
  },
  {
   "cell_type": "markdown",
   "id": "4ced8ee3-1887-41ce-872a-e0fd0f5f3b6b",
   "metadata": {},
   "source": [
    "In Python, you can use the return statement in a function to return multiple values by separating them with commas. The values are packed into a tuple, which is then returned by the function. The caller can then unpack the returned tuple into individual variables if needed. "
   ]
  },
  {
   "cell_type": "code",
   "execution_count": 10,
   "id": "729ad473-bed8-476a-960b-3dcd6faedf0a",
   "metadata": {},
   "outputs": [
    {
     "name": "stdout",
     "output_type": "stream",
     "text": [
      "('Alice', 25, 'New York')\n",
      "Alice\n",
      "25\n",
      "New York\n",
      "Alice\n",
      "25\n",
      "New York\n"
     ]
    }
   ],
   "source": [
    "def get_person_info():\n",
    "    name = \"Alice\"\n",
    "    age = 25\n",
    "    city = \"New York\"\n",
    "    return name, age, city\n",
    "\n",
    "person_info = get_person_info()\n",
    "print(person_info)  # Output: ('Alice', 25, 'New York')\n",
    "print(person_info[0])  # Output: Alice\n",
    "print(person_info[1])  # Output: 25\n",
    "print(person_info[2])  # Output: New York\n",
    "\n",
    "name, age, city = get_person_info()\n",
    "print(name)  # Output: Alice\n",
    "print(age)  # Output: 25\n",
    "print(city)  # Output: New York"
   ]
  },
  {
   "cell_type": "markdown",
   "id": "c3c8ae4a-3b7f-46ce-94c9-9231223c033e",
   "metadata": {},
   "source": [
    "Q7. What is the difference between the \"pass by value\" and \"pass by reference\" concepts when it comes to function arguments in Python?"
   ]
  },
  {
   "cell_type": "markdown",
   "id": "8e4355b7-4100-4e3d-b7e4-401939c53fca",
   "metadata": {},
   "source": [
    "In Python, arguments are passed by object reference. This means that when you pass an argument to a function, a reference to the object is passed, rather than the object itself. However, the behavior can be a bit different depending on the type of object being passed.\n",
    "\n",
    "1) Immutable Objects (Pass by Value-like):\n",
    "When you pass immutable objects like numbers, strings, or tuples to a function, the function receives a copy of the reference to the object. It behaves similar to pass by value, as any changes made to the argument within the function don't affect the original object outside the function."
   ]
  },
  {
   "cell_type": "markdown",
   "id": "c848688b-16a4-4df5-a922-fc16299cca7a",
   "metadata": {},
   "source": [
    "2) Mutable Objects (Pass by Reference-like):\n",
    "When you pass mutable objects like lists or dictionaries to a function, the function receives a reference to the original object. Any modifications made to the object within the function will affect the original object."
   ]
  },
  {
   "cell_type": "markdown",
   "id": "b50630c3-5c8b-494b-b4c8-d87c6630f139",
   "metadata": {},
   "source": [
    "Q8. Create a function that can intake integer or decimal value and do following operations:\n",
    "1. Logarithmic function (log x)\n",
    "2. Exponential function (exp(x))\n",
    "3. Power function with base 2 (2x)\n",
    "4. Square root"
   ]
  },
  {
   "cell_type": "code",
   "execution_count": 17,
   "id": "2899f1b4-3b6d-453b-a6a0-4f8053e233db",
   "metadata": {},
   "outputs": [
    {
     "name": "stdout",
     "output_type": "stream",
     "text": [
      "Logarithm of 4.0: 1.3862943611198906\n",
      "Exponential of 4.0: 54.598150033144236\n",
      "Power of 2 with exponent 4.0: 16.0\n",
      "Square root of 4.0: 2.0\n"
     ]
    }
   ],
   "source": [
    "import math\n",
    "\n",
    "def perform_operations(x):\n",
    "    result_log = math.log(x)\n",
    "    result_exp = math.exp(x)\n",
    "    result_power = math.pow(2, x)\n",
    "    result_sqrt = math.sqrt(x)\n",
    "    \n",
    "    return result_log, result_exp, result_power, result_sqrt\n",
    "\n",
    "# Example usage:\n",
    "number = 4.0\n",
    "logarithm, exponential, power, square_root = perform_operations(number)\n",
    "\n",
    "print(f\"Logarithm of {number}: {logarithm}\")\n",
    "print(f\"Exponential of {number}: {exponential}\")\n",
    "print(f\"Power of 2 with exponent {number}: {power}\")\n",
    "print(f\"Square root of {number}: {square_root}\")\n"
   ]
  },
  {
   "cell_type": "markdown",
   "id": "84c81b0f-24aa-4930-a510-686da5e2c89c",
   "metadata": {},
   "source": [
    "Q9. Create a function that takes a full name as an argument and returns first name and last name."
   ]
  },
  {
   "cell_type": "code",
   "execution_count": null,
   "id": "1cd3eb37-22a2-4820-951d-404aabf2167b",
   "metadata": {},
   "outputs": [],
   "source": [
    "def get_first_last_name(full_name):\n",
    "    names = full_name.split()\n",
    "    first_name = names[0]\n",
    "    last_name = names[-1]\n",
    "    return first_name, last_name\n",
    "\n",
    "# Example usage:\n",
    "name = input(\"Enter your full name:\")\n",
    "first_name, last_name = get_first_last_name(name)\n",
    "\n",
    "print(f\"First Name: {first_name}\")\n",
    "print(f\"Last Name: {last_name}\")"
   ]
  },
  {
   "cell_type": "code",
   "execution_count": null,
   "id": "d38a3a5f-242b-4a15-9e61-50a8a097b204",
   "metadata": {},
   "outputs": [],
   "source": []
  }
 ],
 "metadata": {
  "kernelspec": {
   "display_name": "Python 3 (ipykernel)",
   "language": "python",
   "name": "python3"
  },
  "language_info": {
   "codemirror_mode": {
    "name": "ipython",
    "version": 3
   },
   "file_extension": ".py",
   "mimetype": "text/x-python",
   "name": "python",
   "nbconvert_exporter": "python",
   "pygments_lexer": "ipython3",
   "version": "3.10.6"
  }
 },
 "nbformat": 4,
 "nbformat_minor": 5
}
