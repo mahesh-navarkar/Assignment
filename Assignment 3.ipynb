{
  "metadata": {
    "language_info": {
      "codemirror_mode": {
        "name": "python",
        "version": 3
      },
      "file_extension": ".py",
      "mimetype": "text/x-python",
      "name": "python",
      "nbconvert_exporter": "python",
      "pygments_lexer": "ipython3",
      "version": "3.8"
    },
    "kernelspec": {
      "name": "python",
      "display_name": "Python (Pyodide)",
      "language": "python"
    }
  },
  "nbformat_minor": 4,
  "nbformat": 4,
  "cells": [
    {
      "cell_type": "markdown",
      "source": "Q1. Why are functions advantageous to have in your programs?",
      "metadata": {}
    },
    {
      "cell_type": "markdown",
      "source": "Functions allow you to write reusable blocks of code. Instead of repeating the same code in multiple places, you can define a function once and use it whenever needed. This saves time and effort in writing and maintaining code, and it promotes code reuse, which leads to cleaner and more efficient programs.\n \nFunctions promote modularity by breaking down complex programs into smaller, self-contained units. Each function can perform a specific task or operation, making the code easier to understand, debug, and maintain. Modularity also enables multiple programmers to work on different functions simultaneously, improving collaboration and productivity.",
      "metadata": {}
    },
    {
      "cell_type": "markdown",
      "source": "Q2. When does the code in a function run:when it's specified or when it's called?",
      "metadata": {}
    },
    {
      "cell_type": "markdown",
      "source": "The code in a function runs when the function is called. The function definition simply defines the code that should be executed when the function is invoked or called from another part of the program.",
      "metadata": {}
    },
    {
      "cell_type": "markdown",
      "source": "Q3. What statement creates a function?",
      "metadata": {}
    },
    {
      "cell_type": "markdown",
      "source": "The def statement is used to create a function.",
      "metadata": {}
    },
    {
      "cell_type": "raw",
      "source": "def function_name(parameters):\n    # Code block or statements",
      "metadata": {}
    },
    {
      "cell_type": "markdown",
      "source": "Q4. What is the difference between a function and a function call?",
      "metadata": {}
    },
    {
      "cell_type": "code",
      "source": "def greet():\n    print(\"Hello, World!\")\n\n# Function definition above does not execute any code yet\n\n# Call the function to execute the code inside it\ngreet()",
      "metadata": {
        "trusted": true
      },
      "execution_count": 1,
      "outputs": [
        {
          "name": "stdout",
          "text": "Hello, World!\n",
          "output_type": "stream"
        }
      ]
    },
    {
      "cell_type": "markdown",
      "source": "a function is a defined block of code that represents a task or operation, while a function call is the act of invoking that function and executing its code. The function call triggers the execution of the function's statements and allows the desired operations to be performed.",
      "metadata": {}
    },
    {
      "cell_type": "markdown",
      "source": "Q5. How many global scopes are there in a Python program? How many local scopes?",
      "metadata": {}
    },
    {
      "cell_type": "markdown",
      "source": "Python programs have one global scope, which exists outside of any function or class.\nThe number of local scopes depends on the number of functions or nested blocks present in the program. Each function or block creates its own local scope.",
      "metadata": {}
    },
    {
      "cell_type": "markdown",
      "source": "Q6. What happens to variables in a local scope when the function call returns?",
      "metadata": {}
    },
    {
      "cell_type": "markdown",
      "source": "When a function call returns in Python, the local scope associated with that function is destroyed, and the variables defined within that scope are no longer accessible. This process is known as variable scope and lifetime.",
      "metadata": {}
    },
    {
      "cell_type": "markdown",
      "source": "Q7. What is the concept of a return value? Is it possible to have a return value in an expression?",
      "metadata": {}
    },
    {
      "cell_type": "markdown",
      "source": "The concept of a return value refers to the value that a function can send back to the caller when it finishes its execution. When a function completes its tasks, it can use the return statement to specify a value or expression that will be sent back as the result of the function call.\n\nPossibility of having a return value in an expression, it is indeed possible. In Python, you can include expressions within the return statement. The expression will be evaluated, and the resulting value will be returned. This allows you to perform computations or transformations on data before returning it.",
      "metadata": {}
    },
    {
      "cell_type": "markdown",
      "source": "Q8. If a function does not have a return statement, what is the return value of a call to that function?",
      "metadata": {}
    },
    {
      "cell_type": "markdown",
      "source": "If a function does not have a return statement, the function call will still execute the code within the function, but it will not explicitly return a value",
      "metadata": {}
    },
    {
      "cell_type": "markdown",
      "source": "Q9. How do you make a function variable refer to the global variable?",
      "metadata": {}
    },
    {
      "cell_type": "markdown",
      "source": "To make a function variable refer to a global variable, you can use the global keyword within the function. This informs Python that a particular variable being used within the function is referring to a global variable rather than creating a new local variable with the same name.",
      "metadata": {}
    },
    {
      "cell_type": "markdown",
      "source": "Q10. What is the data type of None?",
      "metadata": {}
    },
    {
      "cell_type": "markdown",
      "source": "The data type of None is NoneType.",
      "metadata": {}
    },
    {
      "cell_type": "markdown",
      "source": "Q11. What does the sentence import areallyourpetsnamederic do?",
      "metadata": {}
    },
    {
      "cell_type": "markdown",
      "source": "The sentence \"import areallyourpetsnamederic\" is not a valid Python import statement. In Python, the import keyword is used to bring modules or specific items from modules into your current program's namespace.",
      "metadata": {}
    },
    {
      "cell_type": "markdown",
      "source": "Q12. If you had a bacon() feature in a spam module, what would you call it after importing spam?",
      "metadata": {}
    },
    {
      "cell_type": "markdown",
      "source": "If you have a function called bacon() defined in a module named spam, after importing the spam module, you can access the bacon() function using the dot notation.\n\nimport spam\n\nspam.bacon()",
      "metadata": {}
    },
    {
      "cell_type": "markdown",
      "source": "Q13. What can you do to save a programme from crashing if it encounters an error?",
      "metadata": {}
    },
    {
      "cell_type": "markdown",
      "source": "To prevent a program from crashing when it encounters an error, you can use error handling techniques to gracefully handle and recover from exceptions. In Python, this can be achieved using the try-except statement.",
      "metadata": {}
    },
    {
      "cell_type": "markdown",
      "source": "Q14. What is the purpose of the try clause? What is the purpose of the except clause?",
      "metadata": {}
    },
    {
      "cell_type": "markdown",
      "source": "Try and Except clause is used to handle the errors within our code . The try block is used to check some code for errors i.e the code inside the try block will execute when there is no error in the program. Whereas the code inside the except block will execute whenever the program encounters some error in the try block.",
      "metadata": {}
    },
    {
      "cell_type": "raw",
      "source": "try:\n    # Code that may raise an exception\n    # ...\nexcept ExceptionType:\n    # Code to handle the specific exception\n    # ...",
      "metadata": {}
    }
  ]
}