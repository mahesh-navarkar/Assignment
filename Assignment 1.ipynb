{
 "cells": [
  {
   "cell_type": "markdown",
   "metadata": {},
   "source": [
    "Q1 . In the below elements which of them are values or an expression? eg:- values can be integer or string and expressions will be mathematical operators."
   ]
  },
  {
   "cell_type": "markdown",
   "metadata": {},
   "source": [
    "Ans :- \n",
    "1)  '*'      = expression\n",
    "2)  'hello'  = string\n",
    "3)  -87.8    = expression\n",
    "4)  '-'      = expression\n",
    "5)  /        = expression\n",
    "6)  '+'      = expression\n",
    "7)  6        = integer"
   ]
  },
  {
   "cell_type": "markdown",
   "metadata": {},
   "source": [
    "Q2. What is the difference between string and variable?"
   ]
  },
  {
   "cell_type": "markdown",
   "metadata": {},
   "source": [
    "Ans :-\n",
    "\n",
    "String :- String is data type which is used to represent the type data we using.\n",
    "\n",
    "variable :- Variable is nothing but containor to storing data values, For example x= \"Mahesh\" , Here x is a variable and \"Mahesh\" is a string."
   ]
  },
  {
   "cell_type": "markdown",
   "metadata": {},
   "source": [
    "Q3. Describe three different data types."
   ]
  },
  {
   "cell_type": "markdown",
   "metadata": {},
   "source": [
    "Ans:-\n",
    "\n",
    "1) Integer (int): Integers represent whole numbers without any fractional or decimal parts. They can be positive, negative, or zero. For example: -3, 0,    42. Integers are commonly used for counting, indexing, and performing mathematical operations.\n",
    "\n",
    "2) String (str): Strings are used to represent textual data. They are enclosed in single quotes ('') or double quotes (\"\"). Strings can contain letters,    numbers, symbols, and spaces. For example: \"Hello, World!\", 'Mahesh', \"12345\". Strings are immutable, meaning they cannot be changed once created.      However, you can manipulate and concatenate strings using various built-in string operations and methods.\n",
    "\n",
    "3) Boolean (bool): Booleans represent truth values and have two possible values: True and False. They are used for logical operations and conditions.      Booleans are typically the result of comparisons and logical operations. For example: True, False. Booleans are useful for controlling the flow of a    program through conditional statements and loops.\n",
    "\n",
    "4) Floating-point numbers (float) for decimal values\n",
    "\n",
    "5) Lists (list) for ordered collections of items"
   ]
  },
  {
   "cell_type": "markdown",
   "metadata": {},
   "source": [
    "Q4. What is an expression made up of? What do all expressions do?"
   ]
  },
  {
   "cell_type": "markdown",
   "metadata": {},
   "source": [
    "Ans:-\n",
    "\n",
    "An expression is made up of one or more values, variables, operators, and function calls combined in a specific syntax. It represents a computation or operation that produces a value. Expressions can be as simple as a single value or as complex as a combination of multiple values and operators."
   ]
  },
  {
   "cell_type": "markdown",
   "metadata": {},
   "source": [
    "Q5. This assignment statements, like spam = 10. What is the difference between an expression and a statement?"
   ]
  },
  {
   "cell_type": "markdown",
   "metadata": {},
   "source": [
    "Ans:-\n",
    "\n",
    "An expression is a combination of values, variables, operators, and function calls that can be evaluated to produce a value. Expressions are meant to compute and return a value. They can be as simple as a single value or complex with multiple components.\n",
    "\n",
    "A statement is a line of code that performs an action or operation. Statements are executed by the Python interpreter, and they typically change the state of a program. Unlike expressions, statements do not necessarily produce a value. Some common types of statements in Python include assignment statements, conditional statements (if-else), loop statements (for, while), and function definitions."
   ]
  },
  {
   "cell_type": "markdown",
   "metadata": {},
   "source": [
    "Q6. After running the following code, what does the variable bacon contain? bacon = 22 bacon + 1"
   ]
  },
  {
   "cell_type": "code",
   "execution_count": 10,
   "metadata": {},
   "outputs": [
    {
     "name": "stdout",
     "output_type": "stream",
     "text": [
      "22\n"
     ]
    }
   ],
   "source": [
    "bacon = 22\n",
    "bacon + 1\n",
    "print(bacon)\n",
    "# bacon is containing 22"
   ]
  },
  {
   "cell_type": "markdown",
   "metadata": {},
   "source": [
    "Q7. What should the values of the following two terms be? 'spam' + 'spamspam' 'spam' * 3"
   ]
  },
  {
   "cell_type": "code",
   "execution_count": 1,
   "metadata": {},
   "outputs": [
    {
     "data": {
      "text/plain": [
       "'spamspamspam'"
      ]
     },
     "execution_count": 1,
     "metadata": {},
     "output_type": "execute_result"
    }
   ],
   "source": [
    "\"spam\" + \"spamspam\""
   ]
  },
  {
   "cell_type": "code",
   "execution_count": 2,
   "metadata": {},
   "outputs": [
    {
     "data": {
      "text/plain": [
       "'spamspamspam'"
      ]
     },
     "execution_count": 2,
     "metadata": {},
     "output_type": "execute_result"
    }
   ],
   "source": [
    "'spam' * 3"
   ]
  },
  {
   "cell_type": "markdown",
   "metadata": {},
   "source": [
    "Q8. Why is eggs a valid variable name while 100 is invalid?"
   ]
  },
  {
   "cell_type": "markdown",
   "metadata": {},
   "source": [
    "Ans:-\n",
    "\n",
    "Variable name \"eggs\" is considered valid because it starts with a letter and consists only of letters. It does not conflict with any reserved keywords.\n",
    "Variable name \"100\" is invalid because it starts with a number, Variable names cannot begin with a digit in Python. If you need to represent a number in a variable name, you can include it after the initial letter or underscore."
   ]
  },
  {
   "cell_type": "markdown",
   "metadata": {},
   "source": [
    "Q9. What three functions can be used to get the integer, floating-point number, or string version of a value?"
   ]
  },
  {
   "cell_type": "markdown",
   "metadata": {},
   "source": [
    "The int(), float(), and str() functions will evaluate to the integer, floating-point number, and string versions of the value passed to them."
   ]
  },
  {
   "cell_type": "code",
   "execution_count": 18,
   "metadata": {},
   "outputs": [
    {
     "name": "stdout",
     "output_type": "stream",
     "text": [
      "10\n",
      "<class 'int'>\n",
      "3.14\n",
      "<class 'float'>\n",
      "42\n",
      "<class 'str'>\n"
     ]
    }
   ],
   "source": [
    "num = int(\"10\")       # Converts the string \"10\" to an integer\n",
    "print(num)            # Output: 10\n",
    "print(type(num))      # data type of variable or value\n",
    "num1 = float(\"3.14\")  # Converts the string \"3.14\" to a float\n",
    "print(num1)           # Output: 3.14\n",
    "print(type(num1))     # data type of variable or value\n",
    "text = str(42)        # Converts the integer 42 to a string\n",
    "print(text)           # Output: \"42\"\n",
    "print(type(text))     # data type of variable or value"
   ]
  },
  {
   "cell_type": "markdown",
   "metadata": {},
   "source": [
    "Q10. Why does this expression cause an error? How can you fix it?\n",
    "'I have eaten ' + 99 + ' burritos.'"
   ]
  },
  {
   "cell_type": "markdown",
   "metadata": {},
   "source": [
    "The expression 'I have eaten ' + 99 + ' burritos.' causes an error because you are attempting to concatenate a string with an integer directly. In Python, the + operator is used for concatenating two strings, but it cannot directly concatenate a string with an integer.\n",
    "\n",
    "To fix the error, you need to convert the integer 99 to a string before concatenating it with the other strings. You can use the str() function to convert the integer to a string."
   ]
  },
  {
   "cell_type": "code",
   "execution_count": 19,
   "metadata": {},
   "outputs": [
    {
     "data": {
      "text/plain": [
       "'I have eaten 99 burritos.'"
      ]
     },
     "execution_count": 19,
     "metadata": {},
     "output_type": "execute_result"
    }
   ],
   "source": [
    "'I have eaten ' + str(99) + ' burritos.'"
   ]
  }
 ],
 "metadata": {
  "kernelspec": {
   "display_name": "Python 3 (ipykernel)",
   "language": "python",
   "name": "python3"
  },
  "language_info": {
   "codemirror_mode": {
    "name": "ipython",
    "version": 3
   },
   "file_extension": ".py",
   "mimetype": "text/x-python",
   "name": "python",
   "nbconvert_exporter": "python",
   "pygments_lexer": "ipython3",
   "version": "3.10.6"
  }
 },
 "nbformat": 4,
 "nbformat_minor": 4
}
