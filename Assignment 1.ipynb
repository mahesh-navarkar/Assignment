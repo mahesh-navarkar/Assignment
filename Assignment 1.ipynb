{
  "metadata": {
    "language_info": {
      "codemirror_mode": {
        "name": "python",
        "version": 3
      },
      "file_extension": ".py",
      "mimetype": "text/x-python",
      "name": "python",
      "nbconvert_exporter": "python",
      "pygments_lexer": "ipython3",
      "version": "3.8"
    },
    "kernelspec": {
      "name": "python",
      "display_name": "Python (Pyodide)",
      "language": "python"
    }
  },
  "nbformat_minor": 4,
  "nbformat": 4,
  "cells": [
    {
      "cell_type": "markdown",
      "source": "Q1 . In the below elements which of them are values or an expression? eg:- values can be integer or string and expressions will be mathematical operators.",
      "metadata": {}
    },
    {
      "cell_type": "markdown",
      "source": "Ans :- \n1)  '*'      = operator\n2)  'hello'  = value\n3)  -87.8    = value\n4)  '-'      = operator\n5)  /        = operator\n6)  '+'      = operator\n7)  6        = value",
      "metadata": {}
    },
    {
      "cell_type": "markdown",
      "source": "Q2. What is the difference between string and variable?",
      "metadata": {}
    },
    {
      "cell_type": "markdown",
      "source": "Ans :-\n\nString :- String is data type which is used to represent the type data we using.\n\nvariable :- Variable is nothing but containor to storing data values, For example x= \"Mahesh\" , Here x is a variable and \"Mahesh\" is a string.",
      "metadata": {}
    },
    {
      "cell_type": "markdown",
      "source": "Q3. Describe three different data types.",
      "metadata": {}
    },
    {
      "cell_type": "markdown",
      "source": "Ans:-\n\n1) Integer (int): Integers represent whole numbers without any fractional or decimal parts. They can be positive, negative, or zero. For example: -3, 0,    42. Integers are commonly used for counting, indexing, and performing mathematical operations.\n\n2) String (str): Strings are used to represent textual data. They are enclosed in single quotes ('') or double quotes (\"\"). Strings can contain letters,    numbers, symbols, and spaces. For example: \"Hello, World!\", 'Mahesh', \"12345\". Strings are immutable, meaning they cannot be changed once created.      However, you can manipulate and concatenate strings using various built-in string operations and methods.\n\n3) Boolean (bool): Booleans represent truth values and have two possible values: True and False. They are used for logical operations and conditions.      Booleans are typically the result of comparisons and logical operations. For example: True, False. Booleans are useful for controlling the flow of a    program through conditional statements and loops.\n\n4) Floating-point numbers (float) for decimal values\n\n5) Lists (list) for ordered collections of items",
      "metadata": {}
    },
    {
      "cell_type": "markdown",
      "source": "Q4. What is an expression made up of? What do all expressions do?",
      "metadata": {}
    },
    {
      "cell_type": "markdown",
      "source": "Ans:-\n\nAn expression is made up of one or more values, variables, operators, and function calls combined in a specific syntax. It represents a computation or operation that produces a value. Expressions can be as simple as a single value or as complex as a combination of multiple values and operators.",
      "metadata": {}
    },
    {
      "cell_type": "markdown",
      "source": "Q5. This assignment statements, like spam = 10. What is the difference between an expression and a statement?",
      "metadata": {}
    },
    {
      "cell_type": "markdown",
      "source": "Ans:-\n\nAn expression is a combination of values, variables, operators, and function calls that can be evaluated to produce a value. Expressions are meant to compute and return a value. They can be as simple as a single value or complex with multiple components.\n\nA statement is a line of code that performs an action or operation. Statements are executed by the Python interpreter, and they typically change the state of a program. Unlike expressions, statements do not necessarily produce a value. Some common types of statements in Python include assignment statements, conditional statements (if-else), loop statements (for, while), and function definitions.",
      "metadata": {}
    },
    {
      "cell_type": "markdown",
      "source": "Q6. After running the following code, what does the variable bacon contain? bacon = 22 bacon + 1",
      "metadata": {}
    },
    {
      "cell_type": "code",
      "source": "bacon = 22\nbacon + 1\nprint(bacon)\n# bacon is containing 22",
      "metadata": {
        "trusted": true
      },
      "execution_count": 10,
      "outputs": [
        {
          "name": "stdout",
          "text": "22\n",
          "output_type": "stream"
        }
      ]
    },
    {
      "cell_type": "markdown",
      "source": "Q7. What should the values of the following two terms be? 'spam' + 'spamspam' 'spam' * 3",
      "metadata": {}
    },
    {
      "cell_type": "code",
      "source": "'spam' + 'spamspam'\n'spam' * 3\n#print('spam'+'spamspam')\n#print('spam'*3)",
      "metadata": {
        "trusted": true
      },
      "execution_count": 8,
      "outputs": [
        {
          "execution_count": 8,
          "output_type": "execute_result",
          "data": {
            "text/plain": "'spamspamspam'"
          },
          "metadata": {}
        }
      ]
    },
    {
      "cell_type": "code",
      "source": "#'spam' + 'spamspam'\n#'spam' * 3\nprint('spam'+'spamspam')\nprint('spam'*3)",
      "metadata": {
        "trusted": true
      },
      "execution_count": 9,
      "outputs": [
        {
          "name": "stdout",
          "text": "spamspamspam\nspamspamspam\n",
          "output_type": "stream"
        }
      ]
    },
    {
      "cell_type": "markdown",
      "source": "Q8. Why is eggs a valid variable name while 100 is invalid?",
      "metadata": {}
    },
    {
      "cell_type": "markdown",
      "source": "Ans:-\n\nVariable name \"eggs\" is considered valid because it starts with a letter and consists only of letters. It does not conflict with any reserved keywords.\nVariable name \"100\" is invalid because it starts with a number, Variable names cannot begin with a digit in Python. If you need to represent a number in a variable name, you can include it after the initial letter or underscore.",
      "metadata": {}
    },
    {
      "cell_type": "markdown",
      "source": "Q9. What three functions can be used to get the integer, floating-point number, or string version of a value?",
      "metadata": {}
    },
    {
      "cell_type": "markdown",
      "source": "The int(), float(), and str() functions will evaluate to the integer, floating-point number, and string versions of the value passed to them.",
      "metadata": {}
    },
    {
      "cell_type": "code",
      "source": "num = int(\"10\")       # Converts the string \"10\" to an integer\nprint(num)            # Output: 10\nprint(type(num))      # data type of variable or value\nnum1 = float(\"3.14\")  # Converts the string \"3.14\" to a float\nprint(num1)           # Output: 3.14\nprint(type(num1))     # data type of variable or value\ntext = str(42)        # Converts the integer 42 to a string\nprint(text)           # Output: \"42\"\nprint(type(text))     # data type of variable or value",
      "metadata": {
        "trusted": true
      },
      "execution_count": 18,
      "outputs": [
        {
          "name": "stdout",
          "text": "10\n<class 'int'>\n3.14\n<class 'float'>\n42\n<class 'str'>\n",
          "output_type": "stream"
        }
      ]
    },
    {
      "cell_type": "markdown",
      "source": "Q10. Why does this expression cause an error? How can you fix it?\n'I have eaten ' + 99 + ' burritos.'",
      "metadata": {}
    },
    {
      "cell_type": "markdown",
      "source": "The expression 'I have eaten ' + 99 + ' burritos.' causes an error because you are attempting to concatenate a string with an integer directly. In Python, the + operator is used for concatenating two strings, but it cannot directly concatenate a string with an integer.\n\nTo fix the error, you need to convert the integer 99 to a string before concatenating it with the other strings. You can use the str() function to convert the integer to a string.",
      "metadata": {}
    },
    {
      "cell_type": "code",
      "source": "'I have eaten ' + str(99) + ' burritos.'",
      "metadata": {
        "trusted": true
      },
      "execution_count": 19,
      "outputs": [
        {
          "execution_count": 19,
          "output_type": "execute_result",
          "data": {
            "text/plain": "'I have eaten 99 burritos.'"
          },
          "metadata": {}
        }
      ]
    }
  ]
}