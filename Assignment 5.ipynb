{
 "cells": [
  {
   "cell_type": "markdown",
   "id": "a06d291d-c1a3-4d0c-8c99-49e25e0c583f",
   "metadata": {},
   "source": [
    "Q1. What does an empty dictionary's code look like?"
   ]
  },
  {
   "cell_type": "markdown",
   "id": "d303404d-d9a2-47ff-ba62-4ef56efe0df6",
   "metadata": {},
   "source": [
    "An empty dictionary in Python is represented by a pair of curly braces {} with no key-value pairs inside. Here's how an empty dictionary's code looks like:"
   ]
  },
  {
   "cell_type": "code",
   "execution_count": 1,
   "id": "595b217b-cdd5-4bde-981d-55d83c4a5d94",
   "metadata": {},
   "outputs": [],
   "source": [
    "my_dict = {}"
   ]
  },
  {
   "cell_type": "markdown",
   "id": "e61d5187-403e-4b15-aa33-5a2f2e64e9b0",
   "metadata": {},
   "source": [
    "Q2. What is the value of a dictionary value with the key 'foo' and the value 42?"
   ]
  },
  {
   "cell_type": "code",
   "execution_count": 2,
   "id": "6ceb35cd-d7b6-45aa-aca1-9f3a051cc7e1",
   "metadata": {},
   "outputs": [
    {
     "name": "stdout",
     "output_type": "stream",
     "text": [
      "{'foo': 42}\n"
     ]
    }
   ],
   "source": [
    "my_dict ={'foo': 42}\n",
    "print(my_dict)"
   ]
  },
  {
   "cell_type": "markdown",
   "id": "751c1489-d559-4ffc-bbb1-340f4f4b1415",
   "metadata": {},
   "source": [
    "Q3. What is the most significant distinction between a dictionary and a list?"
   ]
  },
  {
   "cell_type": "markdown",
   "id": "66e719da-e2b1-43c3-af61-c2ca14ac65fd",
   "metadata": {},
   "source": [
    "A list is just like an array, but its declaration occurs in other languages. The lists don’t always need to be homogenous. Thus, it becomes the most powerful tool in the case of the Python language. A single list may consist of various DataTypes, such as Strings, Integers, and also Objects. The Lists are always mutable. Thus, we can alter it even after we create it."
   ]
  },
  {
   "cell_type": "markdown",
   "id": "c7300b4f-07c3-4b97-b54a-41449fb84727",
   "metadata": {},
   "source": [
    "A dictionary, on the other hand, refers to an unordered collection of the data values that we use for storing the data values, such as a map. Unlike the other DataTypes, which are capable of holding only a single value in the form of an element, a Dictionary is capable of holding the key:value pair. In a Dictionary, a colon separates all the key-value pairs from each other, while a comma separates all the keys from each other."
   ]
  },
  {
   "cell_type": "markdown",
   "id": "ed2b96b2-e9a9-443f-b4c7-c07a27ca0965",
   "metadata": {},
   "source": [
    "Q4. What happens if you try to access spam[\"foo\"] if spam is {\"bar\": 100}?"
   ]
  },
  {
   "cell_type": "code",
   "execution_count": 5,
   "id": "ecaba9ea-6268-495e-94c0-86d85be89007",
   "metadata": {},
   "outputs": [
    {
     "ename": "KeyError",
     "evalue": "'foo'",
     "output_type": "error",
     "traceback": [
      "\u001b[0;31m---------------------------------------------------------------------------\u001b[0m",
      "\u001b[0;31mKeyError\u001b[0m                                  Traceback (most recent call last)",
      "Cell \u001b[0;32mIn [5], line 2\u001b[0m\n\u001b[1;32m      1\u001b[0m spam \u001b[38;5;241m=\u001b[39m {\u001b[38;5;124m\"\u001b[39m\u001b[38;5;124mbar\u001b[39m\u001b[38;5;124m\"\u001b[39m:\u001b[38;5;241m100\u001b[39m}\n\u001b[0;32m----> 2\u001b[0m \u001b[43mspam\u001b[49m\u001b[43m[\u001b[49m\u001b[38;5;124;43m\"\u001b[39;49m\u001b[38;5;124;43mfoo\u001b[39;49m\u001b[38;5;124;43m\"\u001b[39;49m\u001b[43m]\u001b[49m\n",
      "\u001b[0;31mKeyError\u001b[0m: 'foo'"
     ]
    }
   ],
   "source": [
    "spam = {\"bar\":100}\n",
    "spam[\"foo\"]"
   ]
  },
  {
   "cell_type": "markdown",
   "id": "0305d077-65dc-43ee-96d3-5f7876661a52",
   "metadata": {},
   "source": [
    "Q5. If a dictionary is stored in spam, what is the difference between the expressions \"cat\" in spam and \"cat\" in spam.keys()?"
   ]
  },
  {
   "cell_type": "markdown",
   "id": "519d573e-fd93-4983-ace0-2dcca45c78b0",
   "metadata": {},
   "source": [
    "There is no difference. The in operator checks whether a value exists as a key in the dictionary. 'cat' in spam checks whether there is a 'cat' key in the dictionary, while 'cat' in spam. values() checks whether there is a value 'cat' for one of the keys in spam ."
   ]
  },
  {
   "cell_type": "markdown",
   "id": "8a38737f-1b0e-434b-a94a-32fb4348bdb7",
   "metadata": {},
   "source": [
    "Q6. If a dictionary is stored in spam, what is the difference between the expressions \"cat\" in spam and \"cat\" in spam.values()?"
   ]
  },
  {
   "cell_type": "markdown",
   "id": "b741b65b-05e9-401b-91d3-e359acaee46c",
   "metadata": {},
   "source": [
    "If a dictionary is stored in spam, what is the difference between the expressions 'cat' in spam and 'cat' in spam. keys()? 'cat' in spam checks whether there is a 'cat' key in the dictionary, while 'cat' in spam. values() checks whether there is a value 'cat' for one of the keys in spam."
   ]
  },
  {
   "cell_type": "code",
   "execution_count": 7,
   "id": "8207c7f1-1e71-4ea1-a265-1eae2d2a6c1b",
   "metadata": {},
   "outputs": [
    {
     "data": {
      "text/plain": [
       "True"
      ]
     },
     "execution_count": 7,
     "metadata": {},
     "output_type": "execute_result"
    }
   ],
   "source": [
    "spam = {'animal': 'cat'}\n",
    "'cat' in spam  # False\n",
    "'cat' in spam.values()  # True"
   ]
  },
  {
   "cell_type": "markdown",
   "id": "e74fd8f8-f475-476d-832c-c7924a80f0b9",
   "metadata": {},
   "source": [
    "Q7. What is a shortcut for the following code?\n",
    "\n",
    "if \"color\" not in spam:\n",
    "\n",
    "spam[\"color\"] = \"black\""
   ]
  },
  {
   "cell_type": "markdown",
   "id": "25c00dfe-673c-4362-88b2-afc64b374305",
   "metadata": {},
   "source": [
    "The line of code checks if the key 'color' exists in the spam dictionary. If the key is present, it returns the corresponding value. If the key is not present, it adds the key-value pair 'color': 'black' to the spam dictionary.\n",
    "\n",
    "By using setdefault(), you can achieve the same functionality as the original code in a shorter and more concise manner."
   ]
  },
  {
   "cell_type": "code",
   "execution_count": 8,
   "id": "b06d3739-7134-4f56-9e13-b96c091bf78d",
   "metadata": {},
   "outputs": [
    {
     "data": {
      "text/plain": [
       "'black'"
      ]
     },
     "execution_count": 8,
     "metadata": {},
     "output_type": "execute_result"
    }
   ],
   "source": [
    "spam.setdefault('color', 'black')"
   ]
  },
  {
   "cell_type": "markdown",
   "id": "b9d803bb-daf9-4c93-9222-4587590d4810",
   "metadata": {},
   "source": [
    "Q8. How do you \"pretty print\" dictionary values using which module and function?"
   ]
  },
  {
   "cell_type": "code",
   "execution_count": 9,
   "id": "2a47ee1c-b40c-4ac8-ad3a-a5ff3b60c40b",
   "metadata": {},
   "outputs": [
    {
     "name": "stdout",
     "output_type": "stream",
     "text": [
      "{'key1': 'value1', 'key2': 'value2', 'key3': 'value3'}\n"
     ]
    }
   ],
   "source": [
    "import pprint\n",
    "my_dict = {'key1': 'value1', 'key2': 'value2', 'key3': 'value3'}\n",
    "pprint.pprint(my_dict)"
   ]
  },
  {
   "cell_type": "code",
   "execution_count": null,
   "id": "7b9a15c8-494f-4bd6-823e-22e7fb903ff6",
   "metadata": {},
   "outputs": [],
   "source": []
  }
 ],
 "metadata": {
  "kernelspec": {
   "display_name": "Python 3 (ipykernel)",
   "language": "python",
   "name": "python3"
  },
  "language_info": {
   "codemirror_mode": {
    "name": "ipython",
    "version": 3
   },
   "file_extension": ".py",
   "mimetype": "text/x-python",
   "name": "python",
   "nbconvert_exporter": "python",
   "pygments_lexer": "ipython3",
   "version": "3.10.6"
  }
 },
 "nbformat": 4,
 "nbformat_minor": 5
}
