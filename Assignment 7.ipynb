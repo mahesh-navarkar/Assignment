{
 "cells": [
  {
   "cell_type": "markdown",
   "id": "cbf42f52-82ef-4bae-826c-660bb083d051",
   "metadata": {},
   "source": [
    "Q1. Create two int type variables, apply addition, subtraction, division and multiplications\n",
    "and store the results in variables. Then print the data in the following format by calling the variables:\n",
    "1) First variable is __ & second variable is __.\n",
    "2) Addition: __ + __ = __\n",
    "3) Subtraction: __ - __ = __\n",
    "4) Multiplication: __ * __ = __\n",
    "5) Division: __ / __ = __"
   ]
  },
  {
   "cell_type": "code",
   "execution_count": 4,
   "id": "dcd878d6-90f4-4be8-9aee-270163aa65eb",
   "metadata": {},
   "outputs": [
    {
     "name": "stdout",
     "output_type": "stream",
     "text": [
      "First variable is 25 & second variable is 5\n",
      "Addition: 25 + 5 = 30\n",
      "Subtraction: 25 - 5 = 20\n",
      "Multiplication: 25 * 5 = 125\n",
      "Division: 25 / 5 = 5.0\n"
     ]
    }
   ],
   "source": [
    "num1 = 25\n",
    "num2 = 5\n",
    "\n",
    "addition = num1 + num2\n",
    "subtraction = num1 - num2\n",
    "multiplication = num1 * num2\n",
    "division = num1 / num2\n",
    "\n",
    "print(\"First variable is\", num1, \"& second variable is\", num2)\n",
    "print(\"Addition:\", num1, \"+\", num2, \"=\", addition)\n",
    "print(\"Subtraction:\", num1, \"-\", num2, \"=\", subtraction)\n",
    "print(\"Multiplication:\", num1, \"*\", num2, \"=\", multiplication)\n",
    "print(\"Division:\", num1, \"/\", num2, \"=\", division)"
   ]
  },
  {
   "cell_type": "markdown",
   "id": "8237228d-ea8e-4ef0-b3c5-eccf1f61ca7d",
   "metadata": {},
   "source": [
    "Q2. What is the difference between the following operators:\n",
    "1) ‘/’ & ‘//’\n",
    "2) ‘**’ & ‘^’"
   ]
  },
  {
   "cell_type": "markdown",
   "id": "9c906da1-da56-4b71-8670-ea96e3e827cd",
   "metadata": {},
   "source": [
    "(i) The '/' and '//' operators are used for division in Python, but they have different behaviors.\n",
    "1) The '/' operator performs normal division and returns a float result. It performs floating-point division, even if the operands are integers."
   ]
  },
  {
   "cell_type": "code",
   "execution_count": 4,
   "id": "64755666-562d-4cf9-8dda-5f0513cfdc28",
   "metadata": {},
   "outputs": [
    {
     "name": "stdout",
     "output_type": "stream",
     "text": [
      "3.6666666666666665\n"
     ]
    }
   ],
   "source": [
    "OP = 11/3\n",
    "print(OP)"
   ]
  },
  {
   "cell_type": "markdown",
   "id": "f84c0ab8-80cc-4b74-a80a-d7ff3b281ae7",
   "metadata": {},
   "source": [
    "2) The '//' operator is known as the floor division or integer division operator. It performs division and returns the floor (rounded down) of the quotient as an integer. It discards the fractional part of the result."
   ]
  },
  {
   "cell_type": "code",
   "execution_count": 5,
   "id": "9a113686-b423-4484-8210-34ee08c84db1",
   "metadata": {},
   "outputs": [
    {
     "name": "stdout",
     "output_type": "stream",
     "text": [
      "3\n"
     ]
    }
   ],
   "source": [
    "OP = 11//3\n",
    "print(OP)"
   ]
  },
  {
   "cell_type": "markdown",
   "id": "5b714c84-7a25-4fe9-8bc1-e444b2258b5e",
   "metadata": {},
   "source": [
    "(ii) The '**' and '^' operators are used for exponentiation, but they have different meanings.\n",
    "1) The '**' operator is used for exponentiation in Python. It raises the left operand to the power of the right operand."
   ]
  },
  {
   "cell_type": "code",
   "execution_count": 7,
   "id": "a3cb9acf-e2ab-4914-9b0f-9e3e77abb59f",
   "metadata": {},
   "outputs": [
    {
     "name": "stdout",
     "output_type": "stream",
     "text": [
      "27\n"
     ]
    }
   ],
   "source": [
    "OP = 3 ** 3\n",
    "print(OP)"
   ]
  },
  {
   "cell_type": "markdown",
   "id": "02b8c4f5-ed47-4ad2-877f-41c5ead74b2c",
   "metadata": {},
   "source": [
    "2) The '^' operator, on the other hand, is not used for exponentiation in Python. Instead, it is the bitwise XOR operator used for performing bitwise exclusive OR operations between two integers."
   ]
  },
  {
   "cell_type": "code",
   "execution_count": 9,
   "id": "4e408bb8-c9b3-4d13-b95d-d5c78367cc92",
   "metadata": {},
   "outputs": [
    {
     "name": "stdout",
     "output_type": "stream",
     "text": [
      "6\n"
     ]
    }
   ],
   "source": [
    "OP = 5 ^ 3\n",
    "print(OP)"
   ]
  },
  {
   "cell_type": "markdown",
   "id": "a6a64ad3-870c-4fd6-8b1e-8251f348b5bf",
   "metadata": {},
   "source": [
    "Q3. List the logical operators."
   ]
  },
  {
   "cell_type": "markdown",
   "id": "fbbc33d6-34c6-41f2-8145-63750038b6ca",
   "metadata": {},
   "source": [
    "There are three logical operators:\n",
    "1) and: The and operator returns True if both operands are True, otherwise, it returns False.\n",
    "2) or: The or operator returns True if at least one of the operands is True, otherwise, it returns False.\n",
    "3) not: The not operator is a unary operator that returns the opposite Boolean value of its operand. If the operand is True, not will return False, and if the operand is False, not will return True."
   ]
  },
  {
   "cell_type": "markdown",
   "id": "fc9057de-52c1-43c8-aaba-295312bda812",
   "metadata": {},
   "source": [
    "Q4. Explain right shift operator and left shift operator with examples."
   ]
  },
  {
   "cell_type": "markdown",
   "id": "3345957b-2b87-4eda-b4f1-ff3f0d47f7c2",
   "metadata": {},
   "source": [
    "The right shift (>>) and left shift (<<) operators are bitwise operators used to shift the bits of a number to the right or left, respectively. These operators operate on the binary representation of the numbers.\n",
    "\n",
    "The right shift operator (>>) shifts the bits of a number to the right by a specified number of positions. It is equivalent to dividing the number by 2 raised to the power of the specified shift amount. The rightmost bits are discarded, and the leftmost bits are filled with the sign bit (the leftmost bit of the original number).\n",
    "\n",
    "The left shift operator (<<) shifts the bits of a number to the left by a specified number of positions. It is equivalent to multiplying the number by 2 raised to the power of the specified shift amount. The rightmost bits are filled with zeros, and the leftmost bits are discarded."
   ]
  },
  {
   "cell_type": "code",
   "execution_count": 2,
   "id": "339819fc-c655-48eb-bcf0-826dc1f38b82",
   "metadata": {},
   "outputs": [
    {
     "name": "stdout",
     "output_type": "stream",
     "text": [
      "3\n",
      "96\n"
     ]
    }
   ],
   "source": [
    "x = 12  # Binary: 1100\n",
    "\n",
    "# Right shift by 2 positions\n",
    "result = x >> 2\n",
    "# Binary: 0011 (Decimal: 3)\n",
    "print(result)\n",
    "\n",
    "# Left shift by 3 positions\n",
    "result = x << 3\n",
    "# Binary: 1100000 (Decimal: 96)\n",
    "print(result)"
   ]
  },
  {
   "cell_type": "markdown",
   "id": "2a900d06-1f6b-44a4-b038-c175fad3c558",
   "metadata": {},
   "source": [
    "Q5. Create a list containing int type data of length 15. Then write a code to check if 10 is\n",
    "present in the list or not."
   ]
  },
  {
   "cell_type": "code",
   "execution_count": 4,
   "id": "a5dd8504-e121-4868-8ba0-28f91922b45a",
   "metadata": {},
   "outputs": [
    {
     "name": "stdout",
     "output_type": "stream",
     "text": [
      "10 is present in the list.\n"
     ]
    }
   ],
   "source": [
    "my_list = [5, 8, 12, 4, 10, 17, 6, 3, 1, 9, 13, 2, 7, 11, 15]\n",
    "if 10 in my_list:\n",
    "    print(\"10 is present in the list.\")\n",
    "else:\n",
    "    print(\"10 is not present in the list.\")"
   ]
  },
  {
   "cell_type": "code",
   "execution_count": 5,
   "id": "0759a242-9065-4259-9ee7-517217233dbc",
   "metadata": {},
   "outputs": [
    {
     "name": "stdout",
     "output_type": "stream",
     "text": [
      "10 is not present in the list.\n"
     ]
    }
   ],
   "source": [
    "my_list = [5, 8, 12, 4, 16, 17, 6, 3, 1, 9, 13, 2, 7, 11, 15]\n",
    "if 10 in my_list:\n",
    "    print(\"10 is present in the list.\")\n",
    "else:\n",
    "    print(\"10 is not present in the list.\")"
   ]
  }
 ],
 "metadata": {
  "kernelspec": {
   "display_name": "Python 3 (ipykernel)",
   "language": "python",
   "name": "python3"
  },
  "language_info": {
   "codemirror_mode": {
    "name": "ipython",
    "version": 3
   },
   "file_extension": ".py",
   "mimetype": "text/x-python",
   "name": "python",
   "nbconvert_exporter": "python",
   "pygments_lexer": "ipython3",
   "version": "3.10.6"
  }
 },
 "nbformat": 4,
 "nbformat_minor": 5
}
